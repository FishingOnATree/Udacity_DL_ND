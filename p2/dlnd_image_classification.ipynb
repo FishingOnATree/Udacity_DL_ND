{
 "cells": [
  {
   "cell_type": "markdown",
   "metadata": {
    "collapsed": true
   },
   "source": [
    "# Image Classification\n",
    "In this project, you'll classify images from the [CIFAR-10 dataset](https://www.cs.toronto.edu/~kriz/cifar.html).  The dataset consists of airplanes, dogs, cats, and other objects. You'll preprocess the images, then train a convolutional neural network on all the samples. The images need to be normalized and the labels need to be one-hot encoded.  You'll get to apply what you learned and build a convolutional, max pooling, dropout, and fully connected layers.  At the end, you'll get to see your neural network's predictions on the sample images.\n",
    "## Get the Data\n",
    "Run the following cell to download the [CIFAR-10 dataset for python](https://www.cs.toronto.edu/~kriz/cifar-10-python.tar.gz)."
   ]
  },
  {
   "cell_type": "code",
   "execution_count": 1,
   "metadata": {
    "collapsed": false
   },
   "outputs": [
    {
     "name": "stdout",
     "output_type": "stream",
     "text": [
      "All files found!\n"
     ]
    }
   ],
   "source": [
    "\"\"\"\n",
    "DON'T MODIFY ANYTHING IN THIS CELL THAT IS BELOW THIS LINE\n",
    "\"\"\"\n",
    "from urllib.request import urlretrieve\n",
    "from os.path import isfile, isdir\n",
    "from tqdm import tqdm\n",
    "import problem_unittests as tests\n",
    "import tarfile\n",
    "\n",
    "cifar10_dataset_folder_path = 'cifar-10-batches-py'\n",
    "\n",
    "class DLProgress(tqdm):\n",
    "    last_block = 0\n",
    "\n",
    "    def hook(self, block_num=1, block_size=1, total_size=None):\n",
    "        self.total = total_size\n",
    "        self.update((block_num - self.last_block) * block_size)\n",
    "        self.last_block = block_num\n",
    "\n",
    "if not isfile('cifar-10-python.tar.gz'):\n",
    "    with DLProgress(unit='B', unit_scale=True, miniters=1, desc='CIFAR-10 Dataset') as pbar:\n",
    "        urlretrieve(\n",
    "            'https://www.cs.toronto.edu/~kriz/cifar-10-python.tar.gz',\n",
    "            'cifar-10-python.tar.gz',\n",
    "            pbar.hook)\n",
    "\n",
    "if not isdir(cifar10_dataset_folder_path):\n",
    "    with tarfile.open('cifar-10-python.tar.gz') as tar:\n",
    "        tar.extractall()\n",
    "        tar.close()\n",
    "\n",
    "\n",
    "tests.test_folder_path(cifar10_dataset_folder_path)"
   ]
  },
  {
   "cell_type": "markdown",
   "metadata": {},
   "source": [
    "## Explore the Data\n",
    "The dataset is broken into batches to prevent your machine from running out of memory.  The CIFAR-10 dataset consists of 5 batches, named `data_batch_1`, `data_batch_2`, etc.. Each batch contains the labels and images that are one of the following:\n",
    "* airplane\n",
    "* automobile\n",
    "* bird\n",
    "* cat\n",
    "* deer\n",
    "* dog\n",
    "* frog\n",
    "* horse\n",
    "* ship\n",
    "* truck\n",
    "\n",
    "Understanding a dataset is part of making predictions on the data.  Play around with the code cell below by changing the `batch_id` and `sample_id`. The `batch_id` is the id for a batch (1-5). The `sample_id` is the id for a image and label pair in the batch.\n",
    "\n",
    "Ask yourself \"What are all possible labels?\", \"What is the range of values for the image data?\", \"Are the labels in order or random?\".  Answers to questions like these will help you preprocess the data and end up with better predictions."
   ]
  },
  {
   "cell_type": "code",
   "execution_count": 2,
   "metadata": {
    "collapsed": false
   },
   "outputs": [
    {
     "name": "stdout",
     "output_type": "stream",
     "text": [
      "\n",
      "Stats of batch 1:\n",
      "Samples: 10000\n",
      "Label Counts: {0: 1005, 1: 974, 2: 1032, 3: 1016, 4: 999, 5: 937, 6: 1030, 7: 1001, 8: 1025, 9: 981}\n",
      "First 20 Labels: [6, 9, 9, 4, 1, 1, 2, 7, 8, 3, 4, 7, 7, 2, 9, 9, 9, 3, 2, 6]\n",
      "\n",
      "Example of Image 5:\n",
      "Image - Min Value: 0 Max Value: 252\n",
      "Image - Shape: (32, 32, 3)\n",
      "Label - Label Id: 1 Name: automobile\n"
     ]
    },
    {
     "data": {
      "image/png": "[encoded data removed]",
      "text/plain": [
       "<matplotlib.figure.Figure at 0x1bb6d81aa90>"
      ]
     },
     "metadata": {
      "image/png": {
       "height": 250,
       "width": 253
      }
     },
     "output_type": "display_data"
    }
   ],
   "source": [
    "%matplotlib inline\n",
    "%config InlineBackend.figure_format = 'retina'\n",
    "\n",
    "import helper\n",
    "import numpy as np\n",
    "\n",
    "# Explore the dataset\n",
    "batch_id = 1\n",
    "sample_id = 5\n",
    "helper.display_stats(cifar10_dataset_folder_path, batch_id, sample_id)"
   ]
  },
  {
   "cell_type": "markdown",
   "metadata": {},
   "source": [
    "## Implement Preprocess Functions\n",
    "### Normalize\n",
    "In the cell below, implement the `normalize` function to take in image data, `x`, and return it as a normalized Numpy array. The values should be in the range of 0 to 1, inclusive.  The return object should be the same shape as `x`."
   ]
  },
  {
   "cell_type": "code",
   "execution_count": 3,
   "metadata": {
    "collapsed": false
   },
   "outputs": [
    {
     "name": "stdout",
     "output_type": "stream",
     "text": [
      "Tests Passed\n"
     ]
    }
   ],
   "source": [
    "def normalize(x):\n",
    "    \"\"\"\n",
    "    Normalize a list of sample image data in the range of 0 to 1\n",
    "    : x: List of image data.  The image shape is (32, 32, 3)\n",
    "    : return: Numpy array of normalize data\n",
    "    \"\"\"\n",
    "    # TODO: Implement Function\n",
    "    return x/255\n",
    "\n",
    "\n",
    "\"\"\"\n",
    "DON'T MODIFY ANYTHING IN THIS CELL THAT IS BELOW THIS LINE\n",
    "\"\"\"\n",
    "tests.test_normalize(normalize)"
   ]
  },
  {
   "cell_type": "markdown",
   "metadata": {},
   "source": [
    "### One-hot encode\n",
    "Just like the previous code cell, you'll be implementing a function for preprocessing.  This time, you'll implement the `one_hot_encode` function. The input, `x`, are a list of labels.  Implement the function to return the list of labels as One-Hot encoded Numpy array.  The possible values for labels are 0 to 9. The one-hot encoding function should return the same encoding for each value between each call to `one_hot_encode`.  Make sure to save the map of encodings outside the function.\n",
    "\n",
    "Hint: Don't reinvent the wheel."
   ]
  },
  {
   "cell_type": "code",
   "execution_count": 4,
   "metadata": {
    "collapsed": false
   },
   "outputs": [
    {
     "name": "stdout",
     "output_type": "stream",
     "text": [
      "Tests Passed\n"
     ]
    }
   ],
   "source": [
    "def one_hot_encode(x):\n",
    "    \"\"\"\n",
    "    One hot encode a list of sample labels. Return a one-hot encoded vector for each label.\n",
    "    : x: List of sample Labels\n",
    "    : return: Numpy array of one-hot encoded labels\n",
    "    \"\"\"\n",
    "    # TODO: Implement Function\n",
    "    encoded_list = []\n",
    "    for i in x:\n",
    "        tmp_list = [0] * 10\n",
    "        tmp_list[i] = 1\n",
    "        encoded_list.append(tmp_list)\n",
    "    return np.array(encoded_list)\n",
    "\n",
    "\n",
    "\"\"\"\n",
    "DON'T MODIFY ANYTHING IN THIS CELL THAT IS BELOW THIS LINE\n",
    "\"\"\"\n",
    "tests.test_one_hot_encode(one_hot_encode)"
   ]
  },
  {
   "cell_type": "markdown",
   "metadata": {},
   "source": [
    "### Randomize Data\n",
    "As you saw from exploring the data above, the order of the samples are randomized.  It doesn't hurt to randomize it again, but you don't need to for this dataset."
   ]
  },
  {
   "cell_type": "markdown",
   "metadata": {},
   "source": [
    "## Preprocess all the data and save it\n",
    "Running the code cell below will preprocess all the CIFAR-10 data and save it to file. The code below also uses 10% of the training data for validation."
   ]
  },
  {
   "cell_type": "code",
   "execution_count": 5,
   "metadata": {
    "collapsed": false
   },
   "outputs": [],
   "source": [
    "\"\"\"\n",
    "DON'T MODIFY ANYTHING IN THIS CELL\n",
    "\"\"\"\n",
    "# Preprocess Training, Validation, and Testing Data\n",
    "helper.preprocess_and_save_data(cifar10_dataset_folder_path, normalize, one_hot_encode)"
   ]
  },
  {
   "cell_type": "markdown",
   "metadata": {},
   "source": [
    "# Check Point\n",
    "This is your first checkpoint.  If you ever decide to come back to this notebook or have to restart the notebook, you can start from here.  The preprocessed data has been saved to disk."
   ]
  },
  {
   "cell_type": "code",
   "execution_count": 6,
   "metadata": {
    "collapsed": false,
    "scrolled": true
   },
   "outputs": [],
   "source": [
    "\"\"\"\n",
    "DON'T MODIFY ANYTHING IN THIS CELL\n",
    "\"\"\"\n",
    "import pickle\n",
    "import problem_unittests as tests\n",
    "import helper\n",
    "\n",
    "# Load the Preprocessed Validation data\n",
    "valid_features, valid_labels = pickle.load(open('preprocess_validation.p', mode='rb'))"
   ]
  },
  {
   "cell_type": "markdown",
   "metadata": {},
   "source": [
    "# Build the network\n",
    "For the neural network, you'll build each layer into a function.  Most of the code you've seen has been outside of functions. To test your code more thoroughly, we require that you put each layer in a function.  This allows us to give you better feedback and test for simple mistakes using our unittests before you submit your project.\n",
    "\n",
    ">**Note:** If you're finding it hard to dedicate enough time for this course each week, we've provided a small shortcut to this part of the project. In the next couple of problems, you'll have the option to use classes from the [TensorFlow Layers](https://www.tensorflow.org/api_docs/python/tf/layers) or [TensorFlow Layers (contrib)](https://www.tensorflow.org/api_guides/python/contrib.layers) packages to build each layer, except the layers you build in the \"Convolutional and Max Pooling Layer\" section.  TF Layers is similar to Keras's and TFLearn's abstraction to layers, so it's easy to pickup.\n",
    "\n",
    ">However, if you would like to get the most out of this course, try to solve all the problems _without_ using anything from the TF Layers packages. You **can** still use classes from other packages that happen to have the same name as ones you find in TF Layers! For example, instead of using the TF Layers version of the `conv2d` class, [tf.layers.conv2d](https://www.tensorflow.org/api_docs/python/tf/layers/conv2d), you would want to use the TF Neural Network version of `conv2d`, [tf.nn.conv2d](https://www.tensorflow.org/api_docs/python/tf/nn/conv2d). \n",
    "\n",
    "Let's begin!\n",
    "\n",
    "### Input\n",
    "The neural network needs to read the image data, one-hot encoded labels, and dropout keep probability. Implement the following functions\n",
    "* Implement `neural_net_image_input`\n",
    " * Return a [TF Placeholder](https://www.tensorflow.org/api_docs/python/tf/placeholder)\n",
    " * Set the shape using `image_shape` with batch size set to `None`.\n",
    " * Name the TensorFlow placeholder \"x\" using the TensorFlow `name` parameter in the [TF Placeholder](https://www.tensorflow.org/api_docs/python/tf/placeholder).\n",
    "* Implement `neural_net_label_input`\n",
    " * Return a [TF Placeholder](https://www.tensorflow.org/api_docs/python/tf/placeholder)\n",
    " * Set the shape using `n_classes` with batch size set to `None`.\n",
    " * Name the TensorFlow placeholder \"y\" using the TensorFlow `name` parameter in the [TF Placeholder](https://www.tensorflow.org/api_docs/python/tf/placeholder).\n",
    "* Implement `neural_net_keep_prob_input`\n",
    " * Return a [TF Placeholder](https://www.tensorflow.org/api_docs/python/tf/placeholder) for dropout keep probability.\n",
    " * Name the TensorFlow placeholder \"keep_prob\" using the TensorFlow `name` parameter in the [TF Placeholder](https://www.tensorflow.org/api_docs/python/tf/placeholder).\n",
    "\n",
    "These names will be used at the end of the project to load your saved model.\n",
    "\n",
    "Note: `None` for shapes in TensorFlow allow for a dynamic size."
   ]
  },
  {
   "cell_type": "code",
   "execution_count": 7,
   "metadata": {
    "collapsed": false
   },
   "outputs": [
    {
     "name": "stdout",
     "output_type": "stream",
     "text": [
      "Image Input Tests Passed.\n",
      "Label Input Tests Passed.\n",
      "Keep Prob Tests Passed.\n"
     ]
    }
   ],
   "source": [
    "import tensorflow as tf\n",
    "\n",
    "def neural_net_image_input(image_shape):\n",
    "    \"\"\"\n",
    "    Return a Tensor for a bach of image input\n",
    "    : image_shape: Shape of the images\n",
    "    : return: Tensor for image input.\n",
    "    \"\"\"\n",
    "    return tf.placeholder(tf.float32, shape=[None, image_shape[0], image_shape[1], image_shape[2]], name=\"x\")\n",
    "\n",
    "\n",
    "def neural_net_label_input(n_classes):\n",
    "    \"\"\"\n",
    "    Return a Tensor for a batch of label input\n",
    "    : n_classes: Number of classes\n",
    "    : return: Tensor for label input.\n",
    "    \"\"\"\n",
    "    return  tf.placeholder(tf.float32, shape=[None, n_classes], name=\"y\")\n",
    "\n",
    "\n",
    "def neural_net_keep_prob_input():\n",
    "    \"\"\"\n",
    "    Return a Tensor for keep probability\n",
    "    : return: Tensor for keep probability.\n",
    "    \"\"\"\n",
    "    # TODO: Implement Function\n",
    "    return tf.placeholder(tf.float32, name=\"keep_prob\")\n",
    "\n",
    "\n",
    "\"\"\"\n",
    "DON'T MODIFY ANYTHING IN THIS CELL THAT IS BELOW THIS LINE\n",
    "\"\"\"\n",
    "tf.reset_default_graph()\n",
    "tests.test_nn_image_inputs(neural_net_image_input)\n",
    "tests.test_nn_label_inputs(neural_net_label_input)\n",
    "tests.test_nn_keep_prob_inputs(neural_net_keep_prob_input)"
   ]
  },
  {
   "cell_type": "markdown",
   "metadata": {},
   "source": [
    "### Convolution and Max Pooling Layer\n",
    "Convolution layers have a lot of success with images. For this code cell, you should implement the function `conv2d_maxpool` to apply convolution then max pooling:\n",
    "* Create the weight and bias using `conv_ksize`, `conv_num_outputs` and the shape of `x_tensor`.\n",
    "* Apply a convolution to `x_tensor` using weight and `conv_strides`.\n",
    " * We recommend you use same padding, but you're welcome to use any padding.\n",
    "* Add bias\n",
    "* Add a nonlinear activation to the convolution.\n",
    "* Apply Max Pooling using `pool_ksize` and `pool_strides`.\n",
    " * We recommend you use same padding, but you're welcome to use any padding.\n",
    "\n",
    "**Note:** You **can't** use [TensorFlow Layers](https://www.tensorflow.org/api_docs/python/tf/layers) or [TensorFlow Layers (contrib)](https://www.tensorflow.org/api_guides/python/contrib.layers) for **this** layer, but you can still use TensorFlow's [Neural Network](https://www.tensorflow.org/api_docs/python/tf/nn) package. You may still use the shortcut option for all the **other** layers."
   ]
  },
  {
   "cell_type": "code",
   "execution_count": 8,
   "metadata": {
    "collapsed": false
   },
   "outputs": [],
   "source": [
    "rand_std = 0.1 # defines stand dev for random_normal"
   ]
  },
  {
   "cell_type": "code",
   "execution_count": 9,
   "metadata": {
    "collapsed": false
   },
   "outputs": [
    {
     "name": "stdout",
     "output_type": "stream",
     "text": [
      "Tests Passed\n"
     ]
    }
   ],
   "source": [
    "def conv2d_maxpool(x_tensor, conv_num_outputs, conv_ksize, conv_strides, pool_ksize, pool_strides):\n",
    "    \"\"\"\n",
    "    Apply convolution then max pooling to x_tensor\n",
    "    :param x_tensor: TensorFlow Tensor\n",
    "    :param conv_num_outputs: Number of outputs for the convolutional layer\n",
    "    :param conv_ksize: kernal size 2-D Tuple for the convolutional layer\n",
    "    :param conv_strides: Stride 2-D Tuple for convolution\n",
    "    :param pool_ksize: kernal size 2-D Tuple for pool\n",
    "    :param pool_strides: Stride 2-D Tuple for pool\n",
    "    : return: A tensor that represents convolution and max pooling of x_tensor\n",
    "    \"\"\"\n",
    "#     print(\"x_tensor.shape\", x_tensor.shape)\n",
    "#     print(\"conv_num_outputs\", conv_num_outputs)\n",
    "#     print(\"conv_ksize\", conv_ksize)\n",
    "#     print(\"conv_strides\", conv_strides)\n",
    "#     print(\"pool_ksize\", pool_ksize)\n",
    "#     print(\"pool_strides\", pool_strides)\n",
    "    weight = tf.Variable(tf.random_normal([conv_ksize[0], conv_ksize[1], x_tensor.shape[3].value, conv_num_outputs], stddev=rand_std))\n",
    "    bias = tf.Variable(tf.zeros(conv_num_outputs))\n",
    "    conv_tensor = tf.nn.conv2d(x_tensor, \n",
    "                            weight, \n",
    "                            strides=[1, conv_strides[0], conv_strides[1], 1], \n",
    "                            padding=\"SAME\")\n",
    "    conv_tensor = tf.nn.bias_add(conv_tensor, bias)\n",
    "    # add activation\n",
    "    act_tensor = tf.nn.relu(conv_tensor)\n",
    "    return tf.nn.max_pool(act_tensor, \n",
    "                          ksize=[1, pool_ksize[0], pool_ksize[1], 1], \n",
    "                          strides=[1, pool_strides[0], pool_strides[1], 1], \n",
    "                          padding=\"SAME\")\n",
    "\n",
    "\n",
    "\n",
    "\"\"\"\n",
    "DON'T MODIFY ANYTHING IN THIS CELL THAT IS BELOW THIS LINE\n",
    "\"\"\"\n",
    "tests.test_con_pool(conv2d_maxpool)"
   ]
  },
  {
   "cell_type": "markdown",
   "metadata": {},
   "source": [
    "### Flatten Layer\n",
    "Implement the `flatten` function to change the dimension of `x_tensor` from a 4-D tensor to a 2-D tensor.  The output should be the shape (*Batch Size*, *Flattened Image Size*). Shortcut option: you can use classes from the [TensorFlow Layers](https://www.tensorflow.org/api_docs/python/tf/layers) or [TensorFlow Layers (contrib)](https://www.tensorflow.org/api_guides/python/contrib.layers) packages for this layer. For more of a challenge, only use other TensorFlow packages."
   ]
  },
  {
   "cell_type": "code",
   "execution_count": 10,
   "metadata": {
    "collapsed": false
   },
   "outputs": [
    {
     "name": "stdout",
     "output_type": "stream",
     "text": [
      "Tests Passed\n"
     ]
    }
   ],
   "source": [
    "def flatten(x_tensor):\n",
    "    \"\"\"\n",
    "    Flatten x_tensor to (Batch Size, Flattened Image Size)\n",
    "    : x_tensor: A tensor of size (Batch Size, ...), where ... are the image dimensions.\n",
    "    : return: A tensor of size (Batch Size, Flattened Image Size).\n",
    "    \"\"\"\n",
    "    # TODO: Implement Function\n",
    "    shape_list = x_tensor.shape.as_list()\n",
    "    return tf.reshape(x_tensor, [-1, np.prod(shape_list[1:])])\n",
    "\n",
    "\n",
    "\"\"\"\n",
    "DON'T MODIFY ANYTHING IN THIS CELL THAT IS BELOW THIS LINE\n",
    "\"\"\"\n",
    "tests.test_flatten(flatten)"
   ]
  },
  {
   "cell_type": "code",
   "execution_count": 11,
   "metadata": {
    "collapsed": false
   },
   "outputs": [
    {
     "name": "stdout",
     "output_type": "stream",
     "text": [
      "Tests Passed\n"
     ]
    }
   ],
   "source": [
    "def fully_conn(x_tensor, num_outputs):\n",
    "    \"\"\"\n",
    "    Apply a fully connected layer to x_tensor using weight and bias\n",
    "    : x_tensor: A 2-D tensor where the first dimension is batch size.\n",
    "    : num_outputs: The number of output that the new tensor should be.\n",
    "    : return: A 2-D tensor where the second dimension is num_outputs.\n",
    "    \"\"\"\n",
    "    weight = tf.Variable(tf.random_normal([x_tensor.shape[1].value, num_outputs], stddev=rand_std))\n",
    "    bias = tf.Variable(tf.zeros(num_outputs))\n",
    "    return tf.nn.relu(tf.nn.bias_add(tf.matmul(x_tensor, weight), bias))\n",
    "\n",
    "\n",
    "\"\"\"\n",
    "DON'T MODIFY ANYTHING IN THIS CELL THAT IS BELOW THIS LINE\n",
    "\"\"\"\n",
    "tests.test_fully_conn(fully_conn)"
   ]
  },
  {
   "cell_type": "markdown",
   "metadata": {},
   "source": [
    "### Fully-Connected Layer\n",
    "Implement the `fully_conn` function to apply a fully connected layer to `x_tensor` with the shape (*Batch Size*, *num_outputs*). Shortcut option: you can use classes from the [TensorFlow Layers](https://www.tensorflow.org/api_docs/python/tf/layers) or [TensorFlow Layers (contrib)](https://www.tensorflow.org/api_guides/python/contrib.layers) packages for this layer. For more of a challenge, only use other TensorFlow packages."
   ]
  },
  {
   "cell_type": "markdown",
   "metadata": {},
   "source": [
    "### Output Layer\n",
    "Implement the `output` function to apply a fully connected layer to `x_tensor` with the shape (*Batch Size*, *num_outputs*). Shortcut option: you can use classes from the [TensorFlow Layers](https://www.tensorflow.org/api_docs/python/tf/layers) or [TensorFlow Layers (contrib)](https://www.tensorflow.org/api_guides/python/contrib.layers) packages for this layer. For more of a challenge, only use other TensorFlow packages.\n",
    "\n",
    "**Note:** Activation, softmax, or cross entropy should **not** be applied to this."
   ]
  },
  {
   "cell_type": "code",
   "execution_count": 12,
   "metadata": {
    "collapsed": false
   },
   "outputs": [
    {
     "name": "stdout",
     "output_type": "stream",
     "text": [
      "Tests Passed\n"
     ]
    }
   ],
   "source": [
    "def output(x_tensor, num_outputs):\n",
    "    \"\"\"\n",
    "    Apply a output layer to x_tensor using weight and bias\n",
    "    : x_tensor: A 2-D tensor where the first dimension is batch size.\n",
    "    : num_outputs: The number of output that the new tensor should be.\n",
    "    : return: A 2-D tensor where the second dimension is num_outputs.\n",
    "    \"\"\"\n",
    "    weight = tf.Variable(tf.random_normal([x_tensor.shape[1].value, num_outputs], stddev=rand_std))\n",
    "    bias = tf.Variable(tf.zeros(num_outputs))\n",
    "    return tf.nn.bias_add(tf.matmul(x_tensor, weight), bias)\n",
    "\n",
    "\n",
    "\"\"\"\n",
    "DON'T MODIFY ANYTHING IN THIS CELL THAT IS BELOW THIS LINE\n",
    "\"\"\"\n",
    "tests.test_output(output)"
   ]
  },
  {
   "cell_type": "markdown",
   "metadata": {},
   "source": [
    "### Create Convolutional Model\n",
    "Implement the function `conv_net` to create a convolutional neural network model. The function takes in a batch of images, `x`, and outputs logits.  Use the layers you created above to create this model:\n",
    "\n",
    "* Apply 1, 2, or 3 Convolution and Max Pool layers\n",
    "* Apply a Flatten Layer\n",
    "* Apply 1, 2, or 3 Fully Connected Layers\n",
    "* Apply an Output Layer\n",
    "* Return the output\n",
    "* Apply [TensorFlow's Dropout](https://www.tensorflow.org/api_docs/python/tf/nn/dropout) to one or more layers in the model using `keep_prob`. "
   ]
  },
  {
   "cell_type": "code",
   "execution_count": 24,
   "metadata": {
    "collapsed": false
   },
   "outputs": [
    {
     "name": "stdout",
     "output_type": "stream",
     "text": [
      "Neural Network Built!\n"
     ]
    }
   ],
   "source": [
    "def conv_net(x, keep_prob):\n",
    "    \"\"\"\n",
    "    Create a convolutional neural network model\n",
    "    : x: Placeholder tensor that holds image data.\n",
    "    : keep_prob: Placeholder tensor that hold dropout keep probability.\n",
    "    : return: Tensor that represents logits\n",
    "    \"\"\"\n",
    "    # TODO: Apply 1, 2, or 3 Convolution and Max Pool layers\n",
    "    #    Play around with different number of outputs, kernel size and stride\n",
    "    # Function Definition from Above:\n",
    "    #    conv2d_maxpool(x_tensor, conv_num_outputs, conv_ksize, conv_strides, pool_ksize, pool_strides)\n",
    "    #     :param conv_num_outputs: Number of outputs for the convolutional layer\n",
    "    #     :param conv_ksize: kernal size 2-D Tuple for the convolutional layer\n",
    "    #     :param conv_strides: Stride 2-D Tuple for convolution\n",
    "    #     :param pool_ksize: kernal size 2-D Tuple for pool\n",
    "    #     :param pool_strides: Stride 2-D Tuple for pool\n",
    "    # conv #1\n",
    "    conv_ksize = (4, 4)\n",
    "    conv_strides = (2, 2)\n",
    "    pool_ksize = (2, 2)\n",
    "    pool_strides = (1, 1)\n",
    "    x = conv2d_maxpool(x, 32, conv_ksize, conv_strides, pool_ksize, pool_strides)\n",
    "    x = conv2d_maxpool(x, 128, conv_ksize, conv_strides, pool_ksize, pool_strides)\n",
    "    x = tf.nn.dropout(x, keep_prob)        \n",
    "    # Apply a Flatten Layer\n",
    "    x = flatten(x)\n",
    "    # Apply 1, 2, or 3 Fully Connected Layers\n",
    "    #fc #1\n",
    "    x = fully_conn(x, 256)\n",
    "    x = tf.nn.dropout(x, keep_prob)    \n",
    "    #fc #2\n",
    "    x = fully_conn(x, 256)\n",
    "    x = tf.nn.dropout(x, keep_prob)    \n",
    "\n",
    "    # Apply an Output Layer\n",
    "    return output(x, 10)\n",
    "\n",
    "\n",
    "\"\"\"\n",
    "DON'T MODIFY ANYTHING IN THIS CELL THAT IS BELOW THIS LINE\n",
    "\"\"\"\n",
    "\n",
    "##############################\n",
    "## Build the Neural Network ##\n",
    "##############################\n",
    "\n",
    "# Remove previous weights, bias, inputs, etc..\n",
    "tf.reset_default_graph()\n",
    "\n",
    "# Inputs\n",
    "x = neural_net_image_input((32, 32, 3))\n",
    "y = neural_net_label_input(10)\n",
    "keep_prob = neural_net_keep_prob_input()\n",
    "\n",
    "# Model\n",
    "logits = conv_net(x, keep_prob)\n",
    "\n",
    "# Name logits Tensor, so that is can be loaded from disk after training\n",
    "logits = tf.identity(logits, name='logits')\n",
    "\n",
    "# Loss and Optimizer\n",
    "cost = tf.reduce_mean(tf.nn.softmax_cross_entropy_with_logits(logits=logits, labels=y))\n",
    "optimizer = tf.train.AdamOptimizer().minimize(cost)\n",
    "\n",
    "# Accuracy\n",
    "correct_pred = tf.equal(tf.argmax(logits, 1), tf.argmax(y, 1))\n",
    "accuracy = tf.reduce_mean(tf.cast(correct_pred, tf.float32), name='accuracy')\n",
    "\n",
    "tests.test_conv_net(conv_net)"
   ]
  },
  {
   "cell_type": "markdown",
   "metadata": {},
   "source": [
    "## Train the Neural Network\n",
    "### Single Optimization\n",
    "Implement the function `train_neural_network` to do a single optimization.  The optimization should use `optimizer` to optimize in `session` with a `feed_dict` of the following:\n",
    "* `x` for image input\n",
    "* `y` for labels\n",
    "* `keep_prob` for keep probability for dropout\n",
    "\n",
    "This function will be called for each batch, so `tf.global_variables_initializer()` has already been called.\n",
    "\n",
    "Note: Nothing needs to be returned. This function is only optimizing the neural network."
   ]
  },
  {
   "cell_type": "code",
   "execution_count": 14,
   "metadata": {
    "collapsed": false
   },
   "outputs": [
    {
     "name": "stdout",
     "output_type": "stream",
     "text": [
      "Tests Passed\n"
     ]
    }
   ],
   "source": [
    "def train_neural_network(session, optimizer, keep_probability, feature_batch, label_batch):\n",
    "    \"\"\"\n",
    "    Optimize the session on a batch of images and labels\n",
    "    : session: Current TensorFlow session\n",
    "    : optimizer: TensorFlow optimizer function\n",
    "    : keep_probability: keep probability\n",
    "    : feature_batch: Batch of Numpy image data\n",
    "    : label_batch: Batch of Numpy label data\n",
    "    \"\"\"\n",
    "    session.run(optimizer, feed_dict={\n",
    "                    x: feature_batch,\n",
    "                    y: label_batch,\n",
    "                    keep_prob: keep_probability})\n",
    "\n",
    "\n",
    "\"\"\"\n",
    "DON'T MODIFY ANYTHING IN THIS CELL THAT IS BELOW THIS LINE\n",
    "\"\"\"\n",
    "tests.test_train_nn(train_neural_network)"
   ]
  },
  {
   "cell_type": "markdown",
   "metadata": {},
   "source": [
    "### Show Stats\n",
    "Implement the function `print_stats` to print loss and validation accuracy.  Use the global variables `valid_features` and `valid_labels` to calculate validation accuracy.  Use a keep probability of `1.0` to calculate the loss and validation accuracy."
   ]
  },
  {
   "cell_type": "code",
   "execution_count": 15,
   "metadata": {
    "collapsed": false
   },
   "outputs": [],
   "source": [
    "def print_stats(session, feature_batch, label_batch, cost, accuracy):\n",
    "    \"\"\"\n",
    "    Print information about loss and validation accuracy]\n",
    "    : session: Current TensorFlow session\n",
    "    : feature_batch: Batch of Numpy image data\n",
    "    : label_batch: Batch of Numpy label data\n",
    "    : cost: TensorFlow cost function\n",
    "    : accuracy: TensorFlow accuracy function\n",
    "    \"\"\"\n",
    "    \n",
    "    t_cost, t_acc = session.run([cost, accuracy], feed_dict={\n",
    "        x: feature_batch,\n",
    "        y: label_batch,\n",
    "        keep_prob: 1.0\n",
    "    })\n",
    "    v_cost, v_acc= session.run([cost, accuracy], feed_dict={\n",
    "        x: valid_features,\n",
    "        y: valid_labels,\n",
    "        keep_prob: 1.0\n",
    "    })\n",
    "    print(\"Train: acc {:.4f} loss: {:.4f} / Valid: acc {:.4f} loss: {:.4f}\".format(t_acc, t_cost,v_acc, v_cost))\n"
   ]
  },
  {
   "cell_type": "markdown",
   "metadata": {},
   "source": [
    "### Hyperparameters\n",
    "Tune the following parameters:\n",
    "* Set `epochs` to the number of iterations until the network stops learning or start overfitting\n",
    "* Set `batch_size` to the highest number that your machine has memory for.  Most people set them to common sizes of memory:\n",
    " * 64\n",
    " * 128\n",
    " * 256\n",
    " * ...\n",
    "* Set `keep_probability` to the probability of keeping a node using dropout"
   ]
  },
  {
   "cell_type": "code",
   "execution_count": 16,
   "metadata": {
    "collapsed": true
   },
   "outputs": [],
   "source": [
    "# TODO: Tune Parameters\n",
    "epochs = 25\n",
    "batch_size = 256\n",
    "keep_probability = 0.7"
   ]
  },
  {
   "cell_type": "markdown",
   "metadata": {},
   "source": [
    "### Train on a Single CIFAR-10 Batch\n",
    "Instead of training the neural network on all the CIFAR-10 batches of data, let's use a single batch. This should save time while you iterate on the model to get a better accuracy.  Once the final validation accuracy is 50% or greater, run the model on all the data in the next section."
   ]
  },
  {
   "cell_type": "code",
   "execution_count": 25,
   "metadata": {
    "collapsed": false
   },
   "outputs": [
    {
     "name": "stdout",
     "output_type": "stream",
     "text": [
      "Checking the Training on a Single Batch...\n",
      "Epoch  1, CIFAR-10 Batch 1:  Train: acc 0.1250 loss: 2.2250 / Valid: acc 0.2222 loss: 2.1776\n",
      "Epoch  2, CIFAR-10 Batch 1:  Train: acc 0.3750 loss: 1.9258 / Valid: acc 0.3290 loss: 1.8538\n",
      "Epoch  3, CIFAR-10 Batch 1:  Train: acc 0.4000 loss: 1.7633 / Valid: acc 0.4120 loss: 1.6891\n",
      "Epoch  4, CIFAR-10 Batch 1:  Train: acc 0.5000 loss: 1.5607 / Valid: acc 0.4260 loss: 1.5888\n",
      "Epoch  5, CIFAR-10 Batch 1:  Train: acc 0.5500 loss: 1.3174 / Valid: acc 0.4566 loss: 1.4710\n",
      "Epoch  6, CIFAR-10 Batch 1:  Train: acc 0.7000 loss: 1.1051 / Valid: acc 0.4828 loss: 1.4231\n",
      "Epoch  7, CIFAR-10 Batch 1:  Train: acc 0.7500 loss: 0.9692 / Valid: acc 0.4836 loss: 1.4035\n",
      "Epoch  8, CIFAR-10 Batch 1:  Train: acc 0.7500 loss: 0.8323 / Valid: acc 0.5208 loss: 1.3233\n",
      "Epoch  9, CIFAR-10 Batch 1:  Train: acc 0.8250 loss: 0.6667 / Valid: acc 0.5294 loss: 1.2977\n",
      "Epoch 10, CIFAR-10 Batch 1:  Train: acc 0.8500 loss: 0.5847 / Valid: acc 0.5358 loss: 1.2904\n",
      "Epoch 11, CIFAR-10 Batch 1:  Train: acc 0.9000 loss: 0.4564 / Valid: acc 0.5408 loss: 1.2828\n",
      "Epoch 12, CIFAR-10 Batch 1:  Train: acc 0.8750 loss: 0.4132 / Valid: acc 0.5566 loss: 1.2488\n",
      "Epoch 13, CIFAR-10 Batch 1:  Train: acc 0.9250 loss: 0.3304 / Valid: acc 0.5500 loss: 1.2504\n",
      "Epoch 14, CIFAR-10 Batch 1:  Train: acc 0.9750 loss: 0.2624 / Valid: acc 0.5704 loss: 1.2130\n",
      "Epoch 15, CIFAR-10 Batch 1:  Train: acc 0.9750 loss: 0.2369 / Valid: acc 0.5910 loss: 1.1730\n",
      "Epoch 16, CIFAR-10 Batch 1:  Train: acc 1.0000 loss: 0.1913 / Valid: acc 0.5808 loss: 1.1908\n",
      "Epoch 17, CIFAR-10 Batch 1:  Train: acc 0.9750 loss: 0.1524 / Valid: acc 0.5770 loss: 1.2142\n",
      "Epoch 18, CIFAR-10 Batch 1:  Train: acc 1.0000 loss: 0.1303 / Valid: acc 0.5884 loss: 1.1909\n",
      "Epoch 19, CIFAR-10 Batch 1:  Train: acc 1.0000 loss: 0.1061 / Valid: acc 0.5856 loss: 1.2094\n",
      "Epoch 20, CIFAR-10 Batch 1:  Train: acc 1.0000 loss: 0.0814 / Valid: acc 0.5832 loss: 1.2409\n",
      "Epoch 21, CIFAR-10 Batch 1:  Train: acc 1.0000 loss: 0.0786 / Valid: acc 0.5630 loss: 1.3122\n",
      "Epoch 22, CIFAR-10 Batch 1:  Train: acc 1.0000 loss: 0.0549 / Valid: acc 0.5946 loss: 1.2131\n",
      "Epoch 23, CIFAR-10 Batch 1:  Train: acc 1.0000 loss: 0.0510 / Valid: acc 0.5966 loss: 1.2155\n",
      "Epoch 24, CIFAR-10 Batch 1:  Train: acc 1.0000 loss: 0.0363 / Valid: acc 0.5980 loss: 1.2402\n",
      "Epoch 25, CIFAR-10 Batch 1:  Train: acc 1.0000 loss: 0.0334 / Valid: acc 0.5922 loss: 1.2652\n"
     ]
    }
   ],
   "source": [
    "\"\"\"\n",
    "DON'T MODIFY ANYTHING IN THIS CELL\n",
    "\"\"\"\n",
    "print('Checking the Training on a Single Batch...')\n",
    "with tf.Session() as sess:\n",
    "    # Initializing the variables\n",
    "    sess.run(tf.global_variables_initializer())\n",
    "    \n",
    "    # Training cycle\n",
    "    for epoch in range(epochs):\n",
    "        batch_i = 1\n",
    "        for batch_features, batch_labels in helper.load_preprocess_training_batch(batch_i, batch_size):\n",
    "            train_neural_network(sess, optimizer, keep_probability, batch_features, batch_labels)\n",
    "        print('Epoch {:>2}, CIFAR-10 Batch {}:  '.format(epoch + 1, batch_i), end='')\n",
    "        print_stats(sess, batch_features, batch_labels, cost, accuracy)"
   ]
  },
  {
   "cell_type": "markdown",
   "metadata": {},
   "source": [
    "### Fully Train the Model\n",
    "Now that you got a good accuracy with a single CIFAR-10 batch, try it with all five batches."
   ]
  },
  {
   "cell_type": "code",
   "execution_count": 26,
   "metadata": {
    "collapsed": false
   },
   "outputs": [
    {
     "name": "stdout",
     "output_type": "stream",
     "text": [
      "Training...\n",
      "Epoch  1, CIFAR-10 Batch 1:  Train: acc 0.1750 loss: 2.2361 / Valid: acc 0.2544 loss: 2.1621\n",
      "Epoch  1, CIFAR-10 Batch 2:  Train: acc 0.2250 loss: 1.9563 / Valid: acc 0.3350 loss: 1.8802\n",
      "Epoch  1, CIFAR-10 Batch 3:  Train: acc 0.3750 loss: 1.6440 / Valid: acc 0.3588 loss: 1.7425\n",
      "Epoch  1, CIFAR-10 Batch 4:  Train: acc 0.3000 loss: 1.6053 / Valid: acc 0.4044 loss: 1.6261\n",
      "Epoch  1, CIFAR-10 Batch 5:  Train: acc 0.3750 loss: 1.6125 / Valid: acc 0.4466 loss: 1.5426\n",
      "Epoch  2, CIFAR-10 Batch 1:  Train: acc 0.4750 loss: 1.6716 / Valid: acc 0.4528 loss: 1.5134\n",
      "Epoch  2, CIFAR-10 Batch 2:  Train: acc 0.5750 loss: 1.3574 / Valid: acc 0.4806 loss: 1.4264\n",
      "Epoch  2, CIFAR-10 Batch 3:  Train: acc 0.7250 loss: 1.1058 / Valid: acc 0.4926 loss: 1.3900\n",
      "Epoch  2, CIFAR-10 Batch 4:  Train: acc 0.4750 loss: 1.3651 / Valid: acc 0.5140 loss: 1.3573\n",
      "Epoch  2, CIFAR-10 Batch 5:  Train: acc 0.5000 loss: 1.3730 / Valid: acc 0.5166 loss: 1.3439\n",
      "Epoch  3, CIFAR-10 Batch 1:  Train: acc 0.5500 loss: 1.2750 / Valid: acc 0.5316 loss: 1.3211\n",
      "Epoch  3, CIFAR-10 Batch 2:  Train: acc 0.6250 loss: 1.1040 / Valid: acc 0.5340 loss: 1.2850\n",
      "Epoch  3, CIFAR-10 Batch 3:  Train: acc 0.6750 loss: 0.9162 / Valid: acc 0.5380 loss: 1.2692\n",
      "Epoch  3, CIFAR-10 Batch 4:  Train: acc 0.6000 loss: 1.0851 / Valid: acc 0.5524 loss: 1.2646\n",
      "Epoch  3, CIFAR-10 Batch 5:  Train: acc 0.6500 loss: 1.1269 / Valid: acc 0.5544 loss: 1.2453\n",
      "Epoch  4, CIFAR-10 Batch 1:  Train: acc 0.6000 loss: 1.0543 / Valid: acc 0.5742 loss: 1.2028\n",
      "Epoch  4, CIFAR-10 Batch 2:  Train: acc 0.7000 loss: 0.8266 / Valid: acc 0.5708 loss: 1.1972\n",
      "Epoch  4, CIFAR-10 Batch 3:  Train: acc 0.7500 loss: 0.7452 / Valid: acc 0.5758 loss: 1.1964\n",
      "Epoch  4, CIFAR-10 Batch 4:  Train: acc 0.7500 loss: 0.8621 / Valid: acc 0.5958 loss: 1.1445\n",
      "Epoch  4, CIFAR-10 Batch 5:  Train: acc 0.7250 loss: 0.8545 / Valid: acc 0.5928 loss: 1.1277\n",
      "Epoch  5, CIFAR-10 Batch 1:  Train: acc 0.7250 loss: 0.9202 / Valid: acc 0.6204 loss: 1.1051\n",
      "Epoch  5, CIFAR-10 Batch 2:  Train: acc 0.8000 loss: 0.6488 / Valid: acc 0.6092 loss: 1.1283\n",
      "Epoch  5, CIFAR-10 Batch 3:  Train: acc 0.9000 loss: 0.5436 / Valid: acc 0.6068 loss: 1.1019\n",
      "Epoch  5, CIFAR-10 Batch 4:  Train: acc 0.7500 loss: 0.6913 / Valid: acc 0.6264 loss: 1.0671\n",
      "Epoch  5, CIFAR-10 Batch 5:  Train: acc 0.8250 loss: 0.7293 / Valid: acc 0.6324 loss: 1.0551\n",
      "Epoch  6, CIFAR-10 Batch 1:  Train: acc 0.7250 loss: 0.7887 / Valid: acc 0.6206 loss: 1.0770\n",
      "Epoch  6, CIFAR-10 Batch 2:  Train: acc 0.8750 loss: 0.5336 / Valid: acc 0.6408 loss: 1.0345\n",
      "Epoch  6, CIFAR-10 Batch 3:  Train: acc 0.9250 loss: 0.4393 / Valid: acc 0.6370 loss: 1.0409\n",
      "Epoch  6, CIFAR-10 Batch 4:  Train: acc 0.8750 loss: 0.5537 / Valid: acc 0.6422 loss: 1.0111\n",
      "Epoch  6, CIFAR-10 Batch 5:  Train: acc 0.8750 loss: 0.5577 / Valid: acc 0.6336 loss: 1.0260\n",
      "Epoch  7, CIFAR-10 Batch 1:  Train: acc 0.8000 loss: 0.6729 / Valid: acc 0.6454 loss: 1.0108\n",
      "Epoch  7, CIFAR-10 Batch 2:  Train: acc 0.9000 loss: 0.4248 / Valid: acc 0.6528 loss: 0.9987\n",
      "Epoch  7, CIFAR-10 Batch 3:  Train: acc 0.9500 loss: 0.3576 / Valid: acc 0.6546 loss: 0.9854\n",
      "Epoch  7, CIFAR-10 Batch 4:  Train: acc 0.9250 loss: 0.4804 / Valid: acc 0.6552 loss: 0.9874\n",
      "Epoch  7, CIFAR-10 Batch 5:  Train: acc 0.9250 loss: 0.4747 / Valid: acc 0.6580 loss: 0.9769\n",
      "Epoch  8, CIFAR-10 Batch 1:  Train: acc 0.8000 loss: 0.5717 / Valid: acc 0.6460 loss: 1.0281\n",
      "Epoch  8, CIFAR-10 Batch 2:  Train: acc 0.9500 loss: 0.3767 / Valid: acc 0.6664 loss: 0.9715\n",
      "Epoch  8, CIFAR-10 Batch 3:  Train: acc 0.9500 loss: 0.2846 / Valid: acc 0.6666 loss: 0.9646\n",
      "Epoch  8, CIFAR-10 Batch 4:  Train: acc 0.9250 loss: 0.3624 / Valid: acc 0.6568 loss: 0.9880\n",
      "Epoch  8, CIFAR-10 Batch 5:  Train: acc 0.9750 loss: 0.3729 / Valid: acc 0.6692 loss: 0.9520\n",
      "Epoch  9, CIFAR-10 Batch 1:  Train: acc 0.9000 loss: 0.4534 / Valid: acc 0.6606 loss: 0.9782\n",
      "Epoch  9, CIFAR-10 Batch 2:  Train: acc 0.9250 loss: 0.3248 / Valid: acc 0.6762 loss: 0.9433\n",
      "Epoch  9, CIFAR-10 Batch 3:  Train: acc 1.0000 loss: 0.2056 / Valid: acc 0.6736 loss: 0.9370\n",
      "Epoch  9, CIFAR-10 Batch 4:  Train: acc 0.9500 loss: 0.2762 / Valid: acc 0.6780 loss: 0.9223\n",
      "Epoch  9, CIFAR-10 Batch 5:  Train: acc 1.0000 loss: 0.2784 / Valid: acc 0.6864 loss: 0.9115\n",
      "Epoch 10, CIFAR-10 Batch 1:  Train: acc 0.9250 loss: 0.3618 / Valid: acc 0.6764 loss: 0.9292\n",
      "Epoch 10, CIFAR-10 Batch 2:  Train: acc 0.9250 loss: 0.2920 / Valid: acc 0.6886 loss: 0.9060\n",
      "Epoch 10, CIFAR-10 Batch 3:  Train: acc 1.0000 loss: 0.1703 / Valid: acc 0.6802 loss: 0.9272\n",
      "Epoch 10, CIFAR-10 Batch 4:  Train: acc 0.9750 loss: 0.2519 / Valid: acc 0.6834 loss: 0.9072\n",
      "Epoch 10, CIFAR-10 Batch 5:  Train: acc 0.9750 loss: 0.2398 / Valid: acc 0.6930 loss: 0.8987\n",
      "Epoch 11, CIFAR-10 Batch 1:  Train: acc 0.9250 loss: 0.3060 / Valid: acc 0.6904 loss: 0.8994\n",
      "Epoch 11, CIFAR-10 Batch 2:  Train: acc 0.9750 loss: 0.2045 / Valid: acc 0.6888 loss: 0.9002\n",
      "Epoch 11, CIFAR-10 Batch 3:  Train: acc 1.0000 loss: 0.1300 / Valid: acc 0.6802 loss: 0.9298\n",
      "Epoch 11, CIFAR-10 Batch 4:  Train: acc 0.9500 loss: 0.2119 / Valid: acc 0.6878 loss: 0.8963\n",
      "Epoch 11, CIFAR-10 Batch 5:  Train: acc 1.0000 loss: 0.1802 / Valid: acc 0.6870 loss: 0.8992\n",
      "Epoch 12, CIFAR-10 Batch 1:  Train: acc 0.9750 loss: 0.2391 / Valid: acc 0.6960 loss: 0.8914\n",
      "Epoch 12, CIFAR-10 Batch 2:  Train: acc 0.9750 loss: 0.1739 / Valid: acc 0.6892 loss: 0.9059\n",
      "Epoch 12, CIFAR-10 Batch 3:  Train: acc 1.0000 loss: 0.0957 / Valid: acc 0.6974 loss: 0.8886\n",
      "Epoch 12, CIFAR-10 Batch 4:  Train: acc 0.9750 loss: 0.1674 / Valid: acc 0.6890 loss: 0.9028\n",
      "Epoch 12, CIFAR-10 Batch 5:  Train: acc 1.0000 loss: 0.1387 / Valid: acc 0.7024 loss: 0.8686\n",
      "Epoch 13, CIFAR-10 Batch 1:  Train: acc 0.9750 loss: 0.2343 / Valid: acc 0.6982 loss: 0.8870\n",
      "Epoch 13, CIFAR-10 Batch 2:  Train: acc 0.9750 loss: 0.1614 / Valid: acc 0.7066 loss: 0.8748\n",
      "Epoch 13, CIFAR-10 Batch 3:  Train: acc 1.0000 loss: 0.0972 / Valid: acc 0.6828 loss: 0.9510\n",
      "Epoch 13, CIFAR-10 Batch 4:  Train: acc 1.0000 loss: 0.1539 / Valid: acc 0.6948 loss: 0.8943\n",
      "Epoch 13, CIFAR-10 Batch 5:  Train: acc 1.0000 loss: 0.0823 / Valid: acc 0.6996 loss: 0.8917\n",
      "Epoch 14, CIFAR-10 Batch 1:  Train: acc 1.0000 loss: 0.1831 / Valid: acc 0.6896 loss: 0.8965\n",
      "Epoch 14, CIFAR-10 Batch 2:  Train: acc 0.9750 loss: 0.1431 / Valid: acc 0.6992 loss: 0.8765\n",
      "Epoch 14, CIFAR-10 Batch 3:  Train: acc 1.0000 loss: 0.0753 / Valid: acc 0.6956 loss: 0.9178\n",
      "Epoch 14, CIFAR-10 Batch 4:  Train: acc 0.9750 loss: 0.1302 / Valid: acc 0.6960 loss: 0.8981\n",
      "Epoch 14, CIFAR-10 Batch 5:  Train: acc 1.0000 loss: 0.0867 / Valid: acc 0.7110 loss: 0.8544\n",
      "Epoch 15, CIFAR-10 Batch 1:  Train: acc 1.0000 loss: 0.1182 / Valid: acc 0.6972 loss: 0.8893\n",
      "Epoch 15, CIFAR-10 Batch 2:  Train: acc 0.9750 loss: 0.1073 / Valid: acc 0.7046 loss: 0.8628\n",
      "Epoch 15, CIFAR-10 Batch 3:  Train: acc 1.0000 loss: 0.0672 / Valid: acc 0.7014 loss: 0.8955\n",
      "Epoch 15, CIFAR-10 Batch 4:  Train: acc 1.0000 loss: 0.0850 / Valid: acc 0.7000 loss: 0.8751\n",
      "Epoch 15, CIFAR-10 Batch 5:  Train: acc 1.0000 loss: 0.0683 / Valid: acc 0.7022 loss: 0.9028\n",
      "Epoch 16, CIFAR-10 Batch 1:  Train: acc 1.0000 loss: 0.1280 / Valid: acc 0.6922 loss: 0.8979\n",
      "Epoch 16, CIFAR-10 Batch 2:  Train: acc 0.9750 loss: 0.0810 / Valid: acc 0.6922 loss: 0.9078\n",
      "Epoch 16, CIFAR-10 Batch 3:  Train: acc 1.0000 loss: 0.0535 / Valid: acc 0.7024 loss: 0.8644\n",
      "Epoch 16, CIFAR-10 Batch 4:  Train: acc 1.0000 loss: 0.0725 / Valid: acc 0.7086 loss: 0.8631\n",
      "Epoch 16, CIFAR-10 Batch 5:  Train: acc 1.0000 loss: 0.0650 / Valid: acc 0.7022 loss: 0.8766\n",
      "Epoch 17, CIFAR-10 Batch 1:  Train: acc 1.0000 loss: 0.0836 / Valid: acc 0.7096 loss: 0.8494\n",
      "Epoch 17, CIFAR-10 Batch 2:  Train: acc 0.9750 loss: 0.0656 / Valid: acc 0.7076 loss: 0.8589\n",
      "Epoch 17, CIFAR-10 Batch 3:  Train: acc 1.0000 loss: 0.0612 / Valid: acc 0.7000 loss: 0.8956\n",
      "Epoch 17, CIFAR-10 Batch 4:  Train: acc 1.0000 loss: 0.0580 / Valid: acc 0.6988 loss: 0.8821\n",
      "Epoch 17, CIFAR-10 Batch 5:  Train: acc 1.0000 loss: 0.0530 / Valid: acc 0.6932 loss: 0.9314\n",
      "Epoch 18, CIFAR-10 Batch 1:  Train: acc 1.0000 loss: 0.0891 / Valid: acc 0.6972 loss: 0.9118\n",
      "Epoch 18, CIFAR-10 Batch 2:  Train: acc 1.0000 loss: 0.0628 / Valid: acc 0.7166 loss: 0.8426\n",
      "Epoch 18, CIFAR-10 Batch 3:  Train: acc 1.0000 loss: 0.0514 / Valid: acc 0.6986 loss: 0.9325\n",
      "Epoch 18, CIFAR-10 Batch 4:  Train: acc 0.9750 loss: 0.0690 / Valid: acc 0.6980 loss: 0.9093\n",
      "Epoch 18, CIFAR-10 Batch 5:  Train: acc 1.0000 loss: 0.0436 / Valid: acc 0.7004 loss: 0.9270\n",
      "Epoch 19, CIFAR-10 Batch 1:  Train: acc 1.0000 loss: 0.0682 / Valid: acc 0.6978 loss: 0.9121\n",
      "Epoch 19, CIFAR-10 Batch 2:  Train: acc 0.9750 loss: 0.0696 / Valid: acc 0.6976 loss: 0.9012\n",
      "Epoch 19, CIFAR-10 Batch 3:  Train: acc 1.0000 loss: 0.0230 / Valid: acc 0.7100 loss: 0.8823\n",
      "Epoch 19, CIFAR-10 Batch 4:  Train: acc 0.9750 loss: 0.0631 / Valid: acc 0.7010 loss: 0.8782\n",
      "Epoch 19, CIFAR-10 Batch 5:  Train: acc 1.0000 loss: 0.0359 / Valid: acc 0.6980 loss: 0.9244\n",
      "Epoch 20, CIFAR-10 Batch 1:  Train: acc 1.0000 loss: 0.0461 / Valid: acc 0.7174 loss: 0.8737\n",
      "Epoch 20, CIFAR-10 Batch 2:  Train: acc 1.0000 loss: 0.0442 / Valid: acc 0.7164 loss: 0.8572\n",
      "Epoch 20, CIFAR-10 Batch 3:  Train: acc 1.0000 loss: 0.0242 / Valid: acc 0.6998 loss: 0.9670\n",
      "Epoch 20, CIFAR-10 Batch 4:  Train: acc 1.0000 loss: 0.0293 / Valid: acc 0.7108 loss: 0.8815\n",
      "Epoch 20, CIFAR-10 Batch 5:  Train: acc 1.0000 loss: 0.0155 / Valid: acc 0.7196 loss: 0.8788\n",
      "Epoch 21, CIFAR-10 Batch 1:  Train: acc 1.0000 loss: 0.0460 / Valid: acc 0.7128 loss: 0.8834\n",
      "Epoch 21, CIFAR-10 Batch 2:  Train: acc 1.0000 loss: 0.0482 / Valid: acc 0.7180 loss: 0.8747\n",
      "Epoch 21, CIFAR-10 Batch 3:  Train: acc 1.0000 loss: 0.0189 / Valid: acc 0.7050 loss: 0.9311\n",
      "Epoch 21, CIFAR-10 Batch 4:  Train: acc 1.0000 loss: 0.0296 / Valid: acc 0.7072 loss: 0.8896\n",
      "Epoch 21, CIFAR-10 Batch 5:  Train: acc 1.0000 loss: 0.0273 / Valid: acc 0.7148 loss: 0.8995\n",
      "Epoch 22, CIFAR-10 Batch 1:  Train: acc 1.0000 loss: 0.0401 / Valid: acc 0.7134 loss: 0.9013\n",
      "Epoch 22, CIFAR-10 Batch 2:  Train: acc 1.0000 loss: 0.0426 / Valid: acc 0.7164 loss: 0.8813\n",
      "Epoch 22, CIFAR-10 Batch 3:  Train: acc 1.0000 loss: 0.0214 / Valid: acc 0.6982 loss: 0.9806\n",
      "Epoch 22, CIFAR-10 Batch 4:  Train: acc 1.0000 loss: 0.0427 / Valid: acc 0.7024 loss: 0.9108\n",
      "Epoch 22, CIFAR-10 Batch 5:  Train: acc 1.0000 loss: 0.0180 / Valid: acc 0.7110 loss: 0.9291\n",
      "Epoch 23, CIFAR-10 Batch 1:  Train: acc 1.0000 loss: 0.0363 / Valid: acc 0.7102 loss: 0.9256\n",
      "Epoch 23, CIFAR-10 Batch 2:  Train: acc 1.0000 loss: 0.0210 / Valid: acc 0.7044 loss: 0.9505\n",
      "Epoch 23, CIFAR-10 Batch 3:  Train: acc 1.0000 loss: 0.0224 / Valid: acc 0.7082 loss: 0.9038\n",
      "Epoch 23, CIFAR-10 Batch 4:  Train: acc 1.0000 loss: 0.0239 / Valid: acc 0.7070 loss: 0.9188\n",
      "Epoch 23, CIFAR-10 Batch 5:  Train: acc 1.0000 loss: 0.0166 / Valid: acc 0.7144 loss: 0.9111\n",
      "Epoch 24, CIFAR-10 Batch 1:  Train: acc 1.0000 loss: 0.0421 / Valid: acc 0.7078 loss: 0.9290\n",
      "Epoch 24, CIFAR-10 Batch 2:  Train: acc 1.0000 loss: 0.0230 / Valid: acc 0.7072 loss: 0.9713\n",
      "Epoch 24, CIFAR-10 Batch 3:  Train: acc 1.0000 loss: 0.0097 / Valid: acc 0.7202 loss: 0.9156\n",
      "Epoch 24, CIFAR-10 Batch 4:  Train: acc 1.0000 loss: 0.0195 / Valid: acc 0.7116 loss: 0.9066\n",
      "Epoch 24, CIFAR-10 Batch 5:  Train: acc 1.0000 loss: 0.0222 / Valid: acc 0.7126 loss: 0.9249\n",
      "Epoch 25, CIFAR-10 Batch 1:  Train: acc 1.0000 loss: 0.0443 / Valid: acc 0.7032 loss: 0.9566\n",
      "Epoch 25, CIFAR-10 Batch 2:  Train: acc 1.0000 loss: 0.0318 / Valid: acc 0.7104 loss: 0.9538\n",
      "Epoch 25, CIFAR-10 Batch 3:  Train: acc 1.0000 loss: 0.0131 / Valid: acc 0.7006 loss: 1.0042\n",
      "Epoch 25, CIFAR-10 Batch 4:  Train: acc 1.0000 loss: 0.0165 / Valid: acc 0.7046 loss: 0.9512\n",
      "Epoch 25, CIFAR-10 Batch 5:  Train: acc 1.0000 loss: 0.0086 / Valid: acc 0.7180 loss: 0.9020\n"
     ]
    }
   ],
   "source": [
    "\"\"\"\n",
    "DON'T MODIFY ANYTHING IN THIS CELL\n",
    "\"\"\"\n",
    "save_model_path = './image_classification'\n",
    "\n",
    "print('Training...')\n",
    "with tf.Session() as sess:\n",
    "    # Initializing the variables\n",
    "    sess.run(tf.global_variables_initializer())\n",
    "    \n",
    "    # Training cycle\n",
    "    for epoch in range(epochs):\n",
    "        # Loop over all batches\n",
    "        n_batches = 5\n",
    "        for batch_i in range(1, n_batches + 1):\n",
    "            for batch_features, batch_labels in helper.load_preprocess_training_batch(batch_i, batch_size):\n",
    "                train_neural_network(sess, optimizer, keep_probability, batch_features, batch_labels)\n",
    "            print('Epoch {:>2}, CIFAR-10 Batch {}:  '.format(epoch + 1, batch_i), end='')\n",
    "            print_stats(sess, batch_features, batch_labels, cost, accuracy)\n",
    "            \n",
    "    # Save Model\n",
    "    saver = tf.train.Saver()\n",
    "    save_path = saver.save(sess, save_model_path)"
   ]
  },
  {
   "cell_type": "markdown",
   "metadata": {},
   "source": [
    "# Checkpoint\n",
    "The model has been saved to disk.\n",
    "## Test Model\n",
    "Test your model against the test dataset.  This will be your final accuracy. You should have an accuracy greater than 50%. If you don't, keep tweaking the model architecture and parameters."
   ]
  },
  {
   "cell_type": "code",
   "execution_count": 27,
   "metadata": {
    "collapsed": false
   },
   "outputs": [
    {
     "name": "stdout",
     "output_type": "stream",
     "text": [
      "Testing Accuracy: 0.7111328125\n",
      "\n"
     ]
    },
    {
     "data": {
      "image/png": "[encoded data removed]",
      "text/plain": [
       "<matplotlib.figure.Figure at 0x1bbf56135f8>"
      ]
     },
     "metadata": {
      "image/png": {
       "height": 319,
       "width": 355
      }
     },
     "output_type": "display_data"
    }
   ],
   "source": [
    "\"\"\"\n",
    "DON'T MODIFY ANYTHING IN THIS CELL\n",
    "\"\"\"\n",
    "%matplotlib inline\n",
    "%config InlineBackend.figure_format = 'retina'\n",
    "\n",
    "import tensorflow as tf\n",
    "import pickle\n",
    "import helper\n",
    "import random\n",
    "\n",
    "# Set batch size if not already set\n",
    "try:\n",
    "    if batch_size:\n",
    "        pass\n",
    "except NameError:\n",
    "    batch_size = 64\n",
    "\n",
    "save_model_path = './image_classification'\n",
    "n_samples = 4\n",
    "top_n_predictions = 3\n",
    "\n",
    "def test_model():\n",
    "    \"\"\"\n",
    "    Test the saved model against the test dataset\n",
    "    \"\"\"\n",
    "\n",
    "    test_features, test_labels = pickle.load(open('preprocess_training.p', mode='rb'))\n",
    "    loaded_graph = tf.Graph()\n",
    "\n",
    "    with tf.Session(graph=loaded_graph) as sess:\n",
    "        # Load model\n",
    "        loader = tf.train.import_meta_graph(save_model_path + '.meta')\n",
    "        loader.restore(sess, save_model_path)\n",
    "\n",
    "        # Get Tensors from loaded model\n",
    "        loaded_x = loaded_graph.get_tensor_by_name('x:0')\n",
    "        loaded_y = loaded_graph.get_tensor_by_name('y:0')\n",
    "        loaded_keep_prob = loaded_graph.get_tensor_by_name('keep_prob:0')\n",
    "        loaded_logits = loaded_graph.get_tensor_by_name('logits:0')\n",
    "        loaded_acc = loaded_graph.get_tensor_by_name('accuracy:0')\n",
    "        \n",
    "        # Get accuracy in batches for memory limitations\n",
    "        test_batch_acc_total = 0\n",
    "        test_batch_count = 0\n",
    "        \n",
    "        for train_feature_batch, train_label_batch in helper.batch_features_labels(test_features, test_labels, batch_size):\n",
    "            test_batch_acc_total += sess.run(\n",
    "                loaded_acc,\n",
    "                feed_dict={loaded_x: train_feature_batch, loaded_y: train_label_batch, loaded_keep_prob: 1.0})\n",
    "            test_batch_count += 1\n",
    "\n",
    "        print('Testing Accuracy: {}\\n'.format(test_batch_acc_total/test_batch_count))\n",
    "\n",
    "        # Print Random Samples\n",
    "        random_test_features, random_test_labels = tuple(zip(*random.sample(list(zip(test_features, test_labels)), n_samples)))\n",
    "        random_test_predictions = sess.run(\n",
    "            tf.nn.top_k(tf.nn.softmax(loaded_logits), top_n_predictions),\n",
    "            feed_dict={loaded_x: random_test_features, loaded_y: random_test_labels, loaded_keep_prob: 1.0})\n",
    "        helper.display_image_predictions(random_test_features, random_test_labels, random_test_predictions)\n",
    "\n",
    "\n",
    "test_model()"
   ]
  },
  {
   "cell_type": "markdown",
   "metadata": {},
   "source": [
    "## Why 50-70% Accuracy?\n",
    "You might be wondering why you can't get an accuracy any higher. First things first, 50% isn't bad for a simple CNN.  Pure guessing would get you 10% accuracy. However, you might notice people are getting scores [well above 70%](http://rodrigob.github.io/are_we_there_yet/build/classification_datasets_results.html#43494641522d3130).  That's because we haven't taught you all there is to know about neural networks. We still need to cover a few more techniques.\n",
    "## Submitting This Project\n",
    "When submitting this project, make sure to run all the cells before saving the notebook.  Save the notebook file as \"dlnd_image_classification.ipynb\" and save it as a HTML file under \"File\" -> \"Download as\".  Include the \"helper.py\" and \"problem_unittests.py\" files in your submission."
   ]
  }
 ],
 "metadata": {
  "kernelspec": {
   "display_name": "Python 3",
   "language": "python",
   "name": "python3"
  },
  "language_info": {
   "codemirror_mode": {
    "name": "ipython",
    "version": 3
   },
   "file_extension": ".py",
   "mimetype": "text/x-python",
   "name": "python",
   "nbconvert_exporter": "python",
   "pygments_lexer": "ipython3",
   "version": "3.5.3"
  }
 },
 "nbformat": 4,
 "nbformat_minor": 0
}
