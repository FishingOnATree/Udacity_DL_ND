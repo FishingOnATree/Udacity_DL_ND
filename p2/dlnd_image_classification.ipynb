{
 "cells": [
  {
   "cell_type": "markdown",
   "metadata": {
    "collapsed": true
   },
   "source": [
    "# Image Classification\n",
    "In this project, you'll classify images from the [CIFAR-10 dataset](https://www.cs.toronto.edu/~kriz/cifar.html).  The dataset consists of airplanes, dogs, cats, and other objects. You'll preprocess the images, then train a convolutional neural network on all the samples. The images need to be normalized and the labels need to be one-hot encoded.  You'll get to apply what you learned and build a convolutional, max pooling, dropout, and fully connected layers.  At the end, you'll get to see your neural network's predictions on the sample images.\n",
    "## Get the Data\n",
    "Run the following cell to download the [CIFAR-10 dataset for python](https://www.cs.toronto.edu/~kriz/cifar-10-python.tar.gz)."
   ]
  },
  {
   "cell_type": "code",
   "execution_count": 1,
   "metadata": {
    "collapsed": false
   },
   "outputs": [
    {
     "name": "stdout",
     "output_type": "stream",
     "text": [
      "All files found!\n"
     ]
    }
   ],
   "source": [
    "\"\"\"\n",
    "DON'T MODIFY ANYTHING IN THIS CELL THAT IS BELOW THIS LINE\n",
    "\"\"\"\n",
    "from urllib.request import urlretrieve\n",
    "from os.path import isfile, isdir\n",
    "from tqdm import tqdm\n",
    "import problem_unittests as tests\n",
    "import tarfile\n",
    "\n",
    "cifar10_dataset_folder_path = 'cifar-10-batches-py'\n",
    "\n",
    "class DLProgress(tqdm):\n",
    "    last_block = 0\n",
    "\n",
    "    def hook(self, block_num=1, block_size=1, total_size=None):\n",
    "        self.total = total_size\n",
    "        self.update((block_num - self.last_block) * block_size)\n",
    "        self.last_block = block_num\n",
    "\n",
    "if not isfile('cifar-10-python.tar.gz'):\n",
    "    with DLProgress(unit='B', unit_scale=True, miniters=1, desc='CIFAR-10 Dataset') as pbar:\n",
    "        urlretrieve(\n",
    "            'https://www.cs.toronto.edu/~kriz/cifar-10-python.tar.gz',\n",
    "            'cifar-10-python.tar.gz',\n",
    "            pbar.hook)\n",
    "\n",
    "if not isdir(cifar10_dataset_folder_path):\n",
    "    with tarfile.open('cifar-10-python.tar.gz') as tar:\n",
    "        tar.extractall()\n",
    "        tar.close()\n",
    "\n",
    "\n",
    "tests.test_folder_path(cifar10_dataset_folder_path)"
   ]
  },
  {
   "cell_type": "markdown",
   "metadata": {},
   "source": [
    "## Explore the Data\n",
    "The dataset is broken into batches to prevent your machine from running out of memory.  The CIFAR-10 dataset consists of 5 batches, named `data_batch_1`, `data_batch_2`, etc.. Each batch contains the labels and images that are one of the following:\n",
    "* airplane\n",
    "* automobile\n",
    "* bird\n",
    "* cat\n",
    "* deer\n",
    "* dog\n",
    "* frog\n",
    "* horse\n",
    "* ship\n",
    "* truck\n",
    "\n",
    "Understanding a dataset is part of making predictions on the data.  Play around with the code cell below by changing the `batch_id` and `sample_id`. The `batch_id` is the id for a batch (1-5). The `sample_id` is the id for a image and label pair in the batch.\n",
    "\n",
    "Ask yourself \"What are all possible labels?\", \"What is the range of values for the image data?\", \"Are the labels in order or random?\".  Answers to questions like these will help you preprocess the data and end up with better predictions."
   ]
  },
  {
   "cell_type": "code",
   "execution_count": 2,
   "metadata": {
    "collapsed": false
   },
   "outputs": [
    {
     "name": "stdout",
     "output_type": "stream",
     "text": [
      "\n",
      "Stats of batch 1:\n",
      "Samples: 10000\n",
      "Label Counts: {0: 1005, 1: 974, 2: 1032, 3: 1016, 4: 999, 5: 937, 6: 1030, 7: 1001, 8: 1025, 9: 981}\n",
      "First 20 Labels: [6, 9, 9, 4, 1, 1, 2, 7, 8, 3, 4, 7, 7, 2, 9, 9, 9, 3, 2, 6]\n",
      "\n",
      "Example of Image 5:\n",
      "Image - Min Value: 0 Max Value: 252\n",
      "Image - Shape: (32, 32, 3)\n",
      "Label - Label Id: 1 Name: automobile\n"
     ]
    },
    {
     "data": {
      "image/png": "[encoded data removed]",
      "text/plain": [
       "<matplotlib.figure.Figure at 0x1bb6d81aa90>"
      ]
     },
     "metadata": {
      "image/png": {
       "height": 250,
       "width": 253
      }
     },
     "output_type": "display_data"
    }
   ],
   "source": [
    "%matplotlib inline\n",
    "%config InlineBackend.figure_format = 'retina'\n",
    "\n",
    "import helper\n",
    "import numpy as np\n",
    "\n",
    "# Explore the dataset\n",
    "batch_id = 1\n",
    "sample_id = 5\n",
    "helper.display_stats(cifar10_dataset_folder_path, batch_id, sample_id)"
   ]
  },
  {
   "cell_type": "markdown",
   "metadata": {},
   "source": [
    "## Implement Preprocess Functions\n",
    "### Normalize\n",
    "In the cell below, implement the `normalize` function to take in image data, `x`, and return it as a normalized Numpy array. The values should be in the range of 0 to 1, inclusive.  The return object should be the same shape as `x`."
   ]
  },
  {
   "cell_type": "code",
   "execution_count": 3,
   "metadata": {
    "collapsed": false
   },
   "outputs": [
    {
     "name": "stdout",
     "output_type": "stream",
     "text": [
      "Tests Passed\n"
     ]
    }
   ],
   "source": [
    "def normalize(x):\n",
    "    \"\"\"\n",
    "    Normalize a list of sample image data in the range of 0 to 1\n",
    "    : x: List of image data.  The image shape is (32, 32, 3)\n",
    "    : return: Numpy array of normalize data\n",
    "    \"\"\"\n",
    "    # TODO: Implement Function\n",
    "    return x/255\n",
    "\n",
    "\n",
    "\"\"\"\n",
    "DON'T MODIFY ANYTHING IN THIS CELL THAT IS BELOW THIS LINE\n",
    "\"\"\"\n",
    "tests.test_normalize(normalize)"
   ]
  },
  {
   "cell_type": "markdown",
   "metadata": {},
   "source": [
    "### One-hot encode\n",
    "Just like the previous code cell, you'll be implementing a function for preprocessing.  This time, you'll implement the `one_hot_encode` function. The input, `x`, are a list of labels.  Implement the function to return the list of labels as One-Hot encoded Numpy array.  The possible values for labels are 0 to 9. The one-hot encoding function should return the same encoding for each value between each call to `one_hot_encode`.  Make sure to save the map of encodings outside the function.\n",
    "\n",
    "Hint: Don't reinvent the wheel."
   ]
  },
  {
   "cell_type": "code",
   "execution_count": 4,
   "metadata": {
    "collapsed": false
   },
   "outputs": [
    {
     "name": "stdout",
     "output_type": "stream",
     "text": [
      "Tests Passed\n"
     ]
    }
   ],
   "source": [
    "def one_hot_encode(x):\n",
    "    \"\"\"\n",
    "    One hot encode a list of sample labels. Return a one-hot encoded vector for each label.\n",
    "    : x: List of sample Labels\n",
    "    : return: Numpy array of one-hot encoded labels\n",
    "    \"\"\"\n",
    "    # TODO: Implement Function\n",
    "    encoded_list = []\n",
    "    for i in x:\n",
    "        tmp_list = [0] * 10\n",
    "        tmp_list[i] = 1\n",
    "        encoded_list.append(tmp_list)\n",
    "    return np.array(encoded_list)\n",
    "\n",
    "\n",
    "\"\"\"\n",
    "DON'T MODIFY ANYTHING IN THIS CELL THAT IS BELOW THIS LINE\n",
    "\"\"\"\n",
    "tests.test_one_hot_encode(one_hot_encode)"
   ]
  },
  {
   "cell_type": "markdown",
   "metadata": {},
   "source": [
    "### Randomize Data\n",
    "As you saw from exploring the data above, the order of the samples are randomized.  It doesn't hurt to randomize it again, but you don't need to for this dataset."
   ]
  },
  {
   "cell_type": "markdown",
   "metadata": {},
   "source": [
    "## Preprocess all the data and save it\n",
    "Running the code cell below will preprocess all the CIFAR-10 data and save it to file. The code below also uses 10% of the training data for validation."
   ]
  },
  {
   "cell_type": "code",
   "execution_count": 5,
   "metadata": {
    "collapsed": false
   },
   "outputs": [],
   "source": [
    "\"\"\"\n",
    "DON'T MODIFY ANYTHING IN THIS CELL\n",
    "\"\"\"\n",
    "# Preprocess Training, Validation, and Testing Data\n",
    "helper.preprocess_and_save_data(cifar10_dataset_folder_path, normalize, one_hot_encode)"
   ]
  },
  {
   "cell_type": "markdown",
   "metadata": {},
   "source": [
    "# Check Point\n",
    "This is your first checkpoint.  If you ever decide to come back to this notebook or have to restart the notebook, you can start from here.  The preprocessed data has been saved to disk."
   ]
  },
  {
   "cell_type": "code",
   "execution_count": 6,
   "metadata": {
    "collapsed": false,
    "scrolled": true
   },
   "outputs": [],
   "source": [
    "\"\"\"\n",
    "DON'T MODIFY ANYTHING IN THIS CELL\n",
    "\"\"\"\n",
    "import pickle\n",
    "import problem_unittests as tests\n",
    "import helper\n",
    "\n",
    "# Load the Preprocessed Validation data\n",
    "valid_features, valid_labels = pickle.load(open('preprocess_validation.p', mode='rb'))"
   ]
  },
  {
   "cell_type": "markdown",
   "metadata": {},
   "source": [
    "# Build the network\n",
    "For the neural network, you'll build each layer into a function.  Most of the code you've seen has been outside of functions. To test your code more thoroughly, we require that you put each layer in a function.  This allows us to give you better feedback and test for simple mistakes using our unittests before you submit your project.\n",
    "\n",
    ">**Note:** If you're finding it hard to dedicate enough time for this course each week, we've provided a small shortcut to this part of the project. In the next couple of problems, you'll have the option to use classes from the [TensorFlow Layers](https://www.tensorflow.org/api_docs/python/tf/layers) or [TensorFlow Layers (contrib)](https://www.tensorflow.org/api_guides/python/contrib.layers) packages to build each layer, except the layers you build in the \"Convolutional and Max Pooling Layer\" section.  TF Layers is similar to Keras's and TFLearn's abstraction to layers, so it's easy to pickup.\n",
    "\n",
    ">However, if you would like to get the most out of this course, try to solve all the problems _without_ using anything from the TF Layers packages. You **can** still use classes from other packages that happen to have the same name as ones you find in TF Layers! For example, instead of using the TF Layers version of the `conv2d` class, [tf.layers.conv2d](https://www.tensorflow.org/api_docs/python/tf/layers/conv2d), you would want to use the TF Neural Network version of `conv2d`, [tf.nn.conv2d](https://www.tensorflow.org/api_docs/python/tf/nn/conv2d). \n",
    "\n",
    "Let's begin!\n",
    "\n",
    "### Input\n",
    "The neural network needs to read the image data, one-hot encoded labels, and dropout keep probability. Implement the following functions\n",
    "* Implement `neural_net_image_input`\n",
    " * Return a [TF Placeholder](https://www.tensorflow.org/api_docs/python/tf/placeholder)\n",
    " * Set the shape using `image_shape` with batch size set to `None`.\n",
    " * Name the TensorFlow placeholder \"x\" using the TensorFlow `name` parameter in the [TF Placeholder](https://www.tensorflow.org/api_docs/python/tf/placeholder).\n",
    "* Implement `neural_net_label_input`\n",
    " * Return a [TF Placeholder](https://www.tensorflow.org/api_docs/python/tf/placeholder)\n",
    " * Set the shape using `n_classes` with batch size set to `None`.\n",
    " * Name the TensorFlow placeholder \"y\" using the TensorFlow `name` parameter in the [TF Placeholder](https://www.tensorflow.org/api_docs/python/tf/placeholder).\n",
    "* Implement `neural_net_keep_prob_input`\n",
    " * Return a [TF Placeholder](https://www.tensorflow.org/api_docs/python/tf/placeholder) for dropout keep probability.\n",
    " * Name the TensorFlow placeholder \"keep_prob\" using the TensorFlow `name` parameter in the [TF Placeholder](https://www.tensorflow.org/api_docs/python/tf/placeholder).\n",
    "\n",
    "These names will be used at the end of the project to load your saved model.\n",
    "\n",
    "Note: `None` for shapes in TensorFlow allow for a dynamic size."
   ]
  },
  {
   "cell_type": "code",
   "execution_count": 7,
   "metadata": {
    "collapsed": false
   },
   "outputs": [
    {
     "name": "stdout",
     "output_type": "stream",
     "text": [
      "Image Input Tests Passed.\n",
      "Label Input Tests Passed.\n",
      "Keep Prob Tests Passed.\n"
     ]
    }
   ],
   "source": [
    "import tensorflow as tf\n",
    "\n",
    "def neural_net_image_input(image_shape):\n",
    "    \"\"\"\n",
    "    Return a Tensor for a bach of image input\n",
    "    : image_shape: Shape of the images\n",
    "    : return: Tensor for image input.\n",
    "    \"\"\"\n",
    "    return tf.placeholder(tf.float32, shape=[None, image_shape[0], image_shape[1], image_shape[2]], name=\"x\")\n",
    "\n",
    "\n",
    "def neural_net_label_input(n_classes):\n",
    "    \"\"\"\n",
    "    Return a Tensor for a batch of label input\n",
    "    : n_classes: Number of classes\n",
    "    : return: Tensor for label input.\n",
    "    \"\"\"\n",
    "    return  tf.placeholder(tf.float32, shape=[None, n_classes], name=\"y\")\n",
    "\n",
    "\n",
    "def neural_net_keep_prob_input():\n",
    "    \"\"\"\n",
    "    Return a Tensor for keep probability\n",
    "    : return: Tensor for keep probability.\n",
    "    \"\"\"\n",
    "    # TODO: Implement Function\n",
    "    return tf.placeholder(tf.float32, name=\"keep_prob\")\n",
    "\n",
    "\n",
    "\"\"\"\n",
    "DON'T MODIFY ANYTHING IN THIS CELL THAT IS BELOW THIS LINE\n",
    "\"\"\"\n",
    "tf.reset_default_graph()\n",
    "tests.test_nn_image_inputs(neural_net_image_input)\n",
    "tests.test_nn_label_inputs(neural_net_label_input)\n",
    "tests.test_nn_keep_prob_inputs(neural_net_keep_prob_input)"
   ]
  },
  {
   "cell_type": "markdown",
   "metadata": {},
   "source": [
    "### Convolution and Max Pooling Layer\n",
    "Convolution layers have a lot of success with images. For this code cell, you should implement the function `conv2d_maxpool` to apply convolution then max pooling:\n",
    "* Create the weight and bias using `conv_ksize`, `conv_num_outputs` and the shape of `x_tensor`.\n",
    "* Apply a convolution to `x_tensor` using weight and `conv_strides`.\n",
    " * We recommend you use same padding, but you're welcome to use any padding.\n",
    "* Add bias\n",
    "* Add a nonlinear activation to the convolution.\n",
    "* Apply Max Pooling using `pool_ksize` and `pool_strides`.\n",
    " * We recommend you use same padding, but you're welcome to use any padding.\n",
    "\n",
    "**Note:** You **can't** use [TensorFlow Layers](https://www.tensorflow.org/api_docs/python/tf/layers) or [TensorFlow Layers (contrib)](https://www.tensorflow.org/api_guides/python/contrib.layers) for **this** layer, but you can still use TensorFlow's [Neural Network](https://www.tensorflow.org/api_docs/python/tf/nn) package. You may still use the shortcut option for all the **other** layers."
   ]
  },
  {
   "cell_type": "code",
   "execution_count": 8,
   "metadata": {
    "collapsed": false
   },
   "outputs": [],
   "source": [
    "rand_std = 0.1 # defines stand dev for random_normal"
   ]
  },
  {
   "cell_type": "code",
   "execution_count": 9,
   "metadata": {
    "collapsed": false
   },
   "outputs": [
    {
     "name": "stdout",
     "output_type": "stream",
     "text": [
      "Tests Passed\n"
     ]
    }
   ],
   "source": [
    "def conv2d_maxpool(x_tensor, conv_num_outputs, conv_ksize, conv_strides, pool_ksize, pool_strides):\n",
    "    \"\"\"\n",
    "    Apply convolution then max pooling to x_tensor\n",
    "    :param x_tensor: TensorFlow Tensor\n",
    "    :param conv_num_outputs: Number of outputs for the convolutional layer\n",
    "    :param conv_ksize: kernal size 2-D Tuple for the convolutional layer\n",
    "    :param conv_strides: Stride 2-D Tuple for convolution\n",
    "    :param pool_ksize: kernal size 2-D Tuple for pool\n",
    "    :param pool_strides: Stride 2-D Tuple for pool\n",
    "    : return: A tensor that represents convolution and max pooling of x_tensor\n",
    "    \"\"\"\n",
    "#     print(\"x_tensor.shape\", x_tensor.shape)\n",
    "#     print(\"conv_num_outputs\", conv_num_outputs)\n",
    "#     print(\"conv_ksize\", conv_ksize)\n",
    "#     print(\"conv_strides\", conv_strides)\n",
    "#     print(\"pool_ksize\", pool_ksize)\n",
    "#     print(\"pool_strides\", pool_strides)\n",
    "    weight = tf.Variable(tf.random_normal([conv_ksize[0], conv_ksize[1], x_tensor.shape[3].value, conv_num_outputs], stddev=rand_std))\n",
    "    bias = tf.Variable(tf.zeros(conv_num_outputs))\n",
    "    conv_tensor = tf.nn.conv2d(x_tensor, \n",
    "                            weight, \n",
    "                            strides=[1, conv_strides[0], conv_strides[1], 1], \n",
    "                            padding=\"SAME\")\n",
    "    conv_tensor = tf.nn.bias_add(conv_tensor, bias)\n",
    "    # add activation\n",
    "    act_tensor = tf.nn.relu(conv_tensor)\n",
    "    return tf.nn.max_pool(act_tensor, \n",
    "                          ksize=[1, pool_ksize[0], pool_ksize[1], 1], \n",
    "                          strides=[1, pool_strides[0], pool_strides[1], 1], \n",
    "                          padding=\"SAME\")\n",
    "\n",
    "\n",
    "\n",
    "\"\"\"\n",
    "DON'T MODIFY ANYTHING IN THIS CELL THAT IS BELOW THIS LINE\n",
    "\"\"\"\n",
    "tests.test_con_pool(conv2d_maxpool)"
   ]
  },
  {
   "cell_type": "markdown",
   "metadata": {},
   "source": [
    "### Flatten Layer\n",
    "Implement the `flatten` function to change the dimension of `x_tensor` from a 4-D tensor to a 2-D tensor.  The output should be the shape (*Batch Size*, *Flattened Image Size*). Shortcut option: you can use classes from the [TensorFlow Layers](https://www.tensorflow.org/api_docs/python/tf/layers) or [TensorFlow Layers (contrib)](https://www.tensorflow.org/api_guides/python/contrib.layers) packages for this layer. For more of a challenge, only use other TensorFlow packages."
   ]
  },
  {
   "cell_type": "code",
   "execution_count": 10,
   "metadata": {
    "collapsed": false
   },
   "outputs": [
    {
     "name": "stdout",
     "output_type": "stream",
     "text": [
      "Tests Passed\n"
     ]
    }
   ],
   "source": [
    "def flatten(x_tensor):\n",
    "    \"\"\"\n",
    "    Flatten x_tensor to (Batch Size, Flattened Image Size)\n",
    "    : x_tensor: A tensor of size (Batch Size, ...), where ... are the image dimensions.\n",
    "    : return: A tensor of size (Batch Size, Flattened Image Size).\n",
    "    \"\"\"\n",
    "    # TODO: Implement Function\n",
    "    shape_list = x_tensor.shape.as_list()\n",
    "    return tf.reshape(x_tensor, [-1, np.prod(shape_list[1:])])\n",
    "\n",
    "\n",
    "\"\"\"\n",
    "DON'T MODIFY ANYTHING IN THIS CELL THAT IS BELOW THIS LINE\n",
    "\"\"\"\n",
    "tests.test_flatten(flatten)"
   ]
  },
  {
   "cell_type": "code",
   "execution_count": 11,
   "metadata": {
    "collapsed": false
   },
   "outputs": [
    {
     "name": "stdout",
     "output_type": "stream",
     "text": [
      "Tests Passed\n"
     ]
    }
   ],
   "source": [
    "def fully_conn(x_tensor, num_outputs):\n",
    "    \"\"\"\n",
    "    Apply a fully connected layer to x_tensor using weight and bias\n",
    "    : x_tensor: A 2-D tensor where the first dimension is batch size.\n",
    "    : num_outputs: The number of output that the new tensor should be.\n",
    "    : return: A 2-D tensor where the second dimension is num_outputs.\n",
    "    \"\"\"\n",
    "    weight = tf.Variable(tf.random_normal([x_tensor.shape[1].value, num_outputs], stddev=rand_std))\n",
    "    bias = tf.Variable(tf.zeros(num_outputs))\n",
    "    return tf.nn.relu(tf.nn.bias_add(tf.matmul(x_tensor, weight), bias))\n",
    "\n",
    "\n",
    "\"\"\"\n",
    "DON'T MODIFY ANYTHING IN THIS CELL THAT IS BELOW THIS LINE\n",
    "\"\"\"\n",
    "tests.test_fully_conn(fully_conn)"
   ]
  },
  {
   "cell_type": "markdown",
   "metadata": {},
   "source": [
    "### Fully-Connected Layer\n",
    "Implement the `fully_conn` function to apply a fully connected layer to `x_tensor` with the shape (*Batch Size*, *num_outputs*). Shortcut option: you can use classes from the [TensorFlow Layers](https://www.tensorflow.org/api_docs/python/tf/layers) or [TensorFlow Layers (contrib)](https://www.tensorflow.org/api_guides/python/contrib.layers) packages for this layer. For more of a challenge, only use other TensorFlow packages."
   ]
  },
  {
   "cell_type": "markdown",
   "metadata": {},
   "source": [
    "### Output Layer\n",
    "Implement the `output` function to apply a fully connected layer to `x_tensor` with the shape (*Batch Size*, *num_outputs*). Shortcut option: you can use classes from the [TensorFlow Layers](https://www.tensorflow.org/api_docs/python/tf/layers) or [TensorFlow Layers (contrib)](https://www.tensorflow.org/api_guides/python/contrib.layers) packages for this layer. For more of a challenge, only use other TensorFlow packages.\n",
    "\n",
    "**Note:** Activation, softmax, or cross entropy should **not** be applied to this."
   ]
  },
  {
   "cell_type": "code",
   "execution_count": 12,
   "metadata": {
    "collapsed": false
   },
   "outputs": [
    {
     "name": "stdout",
     "output_type": "stream",
     "text": [
      "Tests Passed\n"
     ]
    }
   ],
   "source": [
    "def output(x_tensor, num_outputs):\n",
    "    \"\"\"\n",
    "    Apply a output layer to x_tensor using weight and bias\n",
    "    : x_tensor: A 2-D tensor where the first dimension is batch size.\n",
    "    : num_outputs: The number of output that the new tensor should be.\n",
    "    : return: A 2-D tensor where the second dimension is num_outputs.\n",
    "    \"\"\"\n",
    "    weight = tf.Variable(tf.random_normal([x_tensor.shape[1].value, num_outputs], stddev=rand_std))\n",
    "    bias = tf.Variable(tf.zeros(num_outputs))\n",
    "    return tf.nn.bias_add(tf.matmul(x_tensor, weight), bias)\n",
    "\n",
    "\n",
    "\"\"\"\n",
    "DON'T MODIFY ANYTHING IN THIS CELL THAT IS BELOW THIS LINE\n",
    "\"\"\"\n",
    "tests.test_output(output)"
   ]
  },
  {
   "cell_type": "markdown",
   "metadata": {},
   "source": [
    "### Create Convolutional Model\n",
    "Implement the function `conv_net` to create a convolutional neural network model. The function takes in a batch of images, `x`, and outputs logits.  Use the layers you created above to create this model:\n",
    "\n",
    "* Apply 1, 2, or 3 Convolution and Max Pool layers\n",
    "* Apply a Flatten Layer\n",
    "* Apply 1, 2, or 3 Fully Connected Layers\n",
    "* Apply an Output Layer\n",
    "* Return the output\n",
    "* Apply [TensorFlow's Dropout](https://www.tensorflow.org/api_docs/python/tf/nn/dropout) to one or more layers in the model using `keep_prob`. "
   ]
  },
  {
   "cell_type": "code",
   "execution_count": 20,
   "metadata": {
    "collapsed": false
   },
   "outputs": [
    {
     "name": "stdout",
     "output_type": "stream",
     "text": [
      "Neural Network Built!\n"
     ]
    }
   ],
   "source": [
    "def conv_net(x, keep_prob):\n",
    "    \"\"\"\n",
    "    Create a convolutional neural network model\n",
    "    : x: Placeholder tensor that holds image data.\n",
    "    : keep_prob: Placeholder tensor that hold dropout keep probability.\n",
    "    : return: Tensor that represents logits\n",
    "    \"\"\"\n",
    "    # TODO: Apply 1, 2, or 3 Convolution and Max Pool layers\n",
    "    #    Play around with different number of outputs, kernel size and stride\n",
    "    # Function Definition from Above:\n",
    "    #    conv2d_maxpool(x_tensor, conv_num_outputs, conv_ksize, conv_strides, pool_ksize, pool_strides)\n",
    "    #     :param conv_num_outputs: Number of outputs for the convolutional layer\n",
    "    #     :param conv_ksize: kernal size 2-D Tuple for the convolutional layer\n",
    "    #     :param conv_strides: Stride 2-D Tuple for convolution\n",
    "    #     :param pool_ksize: kernal size 2-D Tuple for pool\n",
    "    #     :param pool_strides: Stride 2-D Tuple for pool\n",
    "    # conv #1\n",
    "    conv_ksize = (4, 4)\n",
    "    conv_strides = (2, 2)\n",
    "    pool_ksize = (2, 2)\n",
    "    pool_strides = (1, 1)\n",
    "    x = conv2d_maxpool(x, 32, conv_ksize, conv_strides, pool_ksize, pool_strides)\n",
    "    x = conv2d_maxpool(x, 128, conv_ksize, conv_strides, pool_ksize, pool_strides)\n",
    "    # Apply a Flatten Layer\n",
    "    x = flatten(x)\n",
    "    # Apply 1, 2, or 3 Fully Connected Layers\n",
    "    #fc #1\n",
    "    x = fully_conn(x, 256)\n",
    "    x = tf.nn.dropout(x, keep_prob)    \n",
    "    #fc #2\n",
    "    x = fully_conn(x, 256)\n",
    "    x = tf.nn.dropout(x, keep_prob)    \n",
    "\n",
    "    # Apply an Output Layer\n",
    "    return output(x, 10)\n",
    "\n",
    "\n",
    "\"\"\"\n",
    "DON'T MODIFY ANYTHING IN THIS CELL THAT IS BELOW THIS LINE\n",
    "\"\"\"\n",
    "\n",
    "##############################\n",
    "## Build the Neural Network ##\n",
    "##############################\n",
    "\n",
    "# Remove previous weights, bias, inputs, etc..\n",
    "tf.reset_default_graph()\n",
    "\n",
    "# Inputs\n",
    "x = neural_net_image_input((32, 32, 3))\n",
    "y = neural_net_label_input(10)\n",
    "keep_prob = neural_net_keep_prob_input()\n",
    "\n",
    "# Model\n",
    "logits = conv_net(x, keep_prob)\n",
    "\n",
    "# Name logits Tensor, so that is can be loaded from disk after training\n",
    "logits = tf.identity(logits, name='logits')\n",
    "\n",
    "# Loss and Optimizer\n",
    "cost = tf.reduce_mean(tf.nn.softmax_cross_entropy_with_logits(logits=logits, labels=y))\n",
    "optimizer = tf.train.AdamOptimizer().minimize(cost)\n",
    "\n",
    "# Accuracy\n",
    "correct_pred = tf.equal(tf.argmax(logits, 1), tf.argmax(y, 1))\n",
    "accuracy = tf.reduce_mean(tf.cast(correct_pred, tf.float32), name='accuracy')\n",
    "\n",
    "tests.test_conv_net(conv_net)"
   ]
  },
  {
   "cell_type": "markdown",
   "metadata": {},
   "source": [
    "## Train the Neural Network\n",
    "### Single Optimization\n",
    "Implement the function `train_neural_network` to do a single optimization.  The optimization should use `optimizer` to optimize in `session` with a `feed_dict` of the following:\n",
    "* `x` for image input\n",
    "* `y` for labels\n",
    "* `keep_prob` for keep probability for dropout\n",
    "\n",
    "This function will be called for each batch, so `tf.global_variables_initializer()` has already been called.\n",
    "\n",
    "Note: Nothing needs to be returned. This function is only optimizing the neural network."
   ]
  },
  {
   "cell_type": "code",
   "execution_count": 14,
   "metadata": {
    "collapsed": false
   },
   "outputs": [
    {
     "name": "stdout",
     "output_type": "stream",
     "text": [
      "Tests Passed\n"
     ]
    }
   ],
   "source": [
    "def train_neural_network(session, optimizer, keep_probability, feature_batch, label_batch):\n",
    "    \"\"\"\n",
    "    Optimize the session on a batch of images and labels\n",
    "    : session: Current TensorFlow session\n",
    "    : optimizer: TensorFlow optimizer function\n",
    "    : keep_probability: keep probability\n",
    "    : feature_batch: Batch of Numpy image data\n",
    "    : label_batch: Batch of Numpy label data\n",
    "    \"\"\"\n",
    "    session.run(optimizer, feed_dict={\n",
    "                    x: feature_batch,\n",
    "                    y: label_batch,\n",
    "                    keep_prob: keep_probability})\n",
    "\n",
    "\n",
    "\"\"\"\n",
    "DON'T MODIFY ANYTHING IN THIS CELL THAT IS BELOW THIS LINE\n",
    "\"\"\"\n",
    "tests.test_train_nn(train_neural_network)"
   ]
  },
  {
   "cell_type": "markdown",
   "metadata": {},
   "source": [
    "### Show Stats\n",
    "Implement the function `print_stats` to print loss and validation accuracy.  Use the global variables `valid_features` and `valid_labels` to calculate validation accuracy.  Use a keep probability of `1.0` to calculate the loss and validation accuracy."
   ]
  },
  {
   "cell_type": "code",
   "execution_count": 15,
   "metadata": {
    "collapsed": false
   },
   "outputs": [],
   "source": [
    "def print_stats(session, feature_batch, label_batch, cost, accuracy):\n",
    "    \"\"\"\n",
    "    Print information about loss and validation accuracy]\n",
    "    : session: Current TensorFlow session\n",
    "    : feature_batch: Batch of Numpy image data\n",
    "    : label_batch: Batch of Numpy label data\n",
    "    : cost: TensorFlow cost function\n",
    "    : accuracy: TensorFlow accuracy function\n",
    "    \"\"\"\n",
    "    \n",
    "    t_cost, t_acc = session.run([cost, accuracy], feed_dict={\n",
    "        x: feature_batch,\n",
    "        y: label_batch,\n",
    "        keep_prob: 1.0\n",
    "    })\n",
    "    v_cost, v_acc= session.run([cost, accuracy], feed_dict={\n",
    "        x: valid_features,\n",
    "        y: valid_labels,\n",
    "        keep_prob: 1.0\n",
    "    })\n",
    "    print(\"Train: acc {:.4f} loss: {:.4f} / Valid: acc {:.4f} loss: {:.4f}\".format(t_acc, t_cost,v_acc, v_cost))\n"
   ]
  },
  {
   "cell_type": "markdown",
   "metadata": {},
   "source": [
    "### Hyperparameters\n",
    "Tune the following parameters:\n",
    "* Set `epochs` to the number of iterations until the network stops learning or start overfitting\n",
    "* Set `batch_size` to the highest number that your machine has memory for.  Most people set them to common sizes of memory:\n",
    " * 64\n",
    " * 128\n",
    " * 256\n",
    " * ...\n",
    "* Set `keep_probability` to the probability of keeping a node using dropout"
   ]
  },
  {
   "cell_type": "code",
   "execution_count": 16,
   "metadata": {
    "collapsed": true
   },
   "outputs": [],
   "source": [
    "# TODO: Tune Parameters\n",
    "epochs = 25\n",
    "batch_size = 256\n",
    "keep_probability = 0.7"
   ]
  },
  {
   "cell_type": "markdown",
   "metadata": {},
   "source": [
    "### Train on a Single CIFAR-10 Batch\n",
    "Instead of training the neural network on all the CIFAR-10 batches of data, let's use a single batch. This should save time while you iterate on the model to get a better accuracy.  Once the final validation accuracy is 50% or greater, run the model on all the data in the next section."
   ]
  },
  {
   "cell_type": "code",
   "execution_count": 21,
   "metadata": {
    "collapsed": false
   },
   "outputs": [
    {
     "name": "stdout",
     "output_type": "stream",
     "text": [
      "Checking the Training on a Single Batch...\n",
      "Epoch  1, CIFAR-10 Batch 1:  Train: acc 0.2000 loss: 2.1220 / Valid: acc 0.2426 loss: 2.0554\n",
      "Epoch  2, CIFAR-10 Batch 1:  Train: acc 0.3500 loss: 1.8836 / Valid: acc 0.3674 loss: 1.7816\n",
      "Epoch  3, CIFAR-10 Batch 1:  Train: acc 0.4000 loss: 1.6482 / Valid: acc 0.4102 loss: 1.6513\n",
      "Epoch  4, CIFAR-10 Batch 1:  Train: acc 0.6000 loss: 1.4047 / Valid: acc 0.4494 loss: 1.5349\n",
      "Epoch  5, CIFAR-10 Batch 1:  Train: acc 0.6750 loss: 1.2438 / Valid: acc 0.4688 loss: 1.4838\n",
      "Epoch  6, CIFAR-10 Batch 1:  Train: acc 0.6750 loss: 1.1133 / Valid: acc 0.4758 loss: 1.4639\n",
      "Epoch  7, CIFAR-10 Batch 1:  Train: acc 0.7750 loss: 0.9604 / Valid: acc 0.5100 loss: 1.3938\n",
      "Epoch  8, CIFAR-10 Batch 1:  Train: acc 0.6500 loss: 0.8417 / Valid: acc 0.5072 loss: 1.3600\n",
      "Epoch  9, CIFAR-10 Batch 1:  Train: acc 0.7750 loss: 0.7185 / Valid: acc 0.5172 loss: 1.3541\n",
      "Epoch 10, CIFAR-10 Batch 1:  Train: acc 0.7750 loss: 0.6279 / Valid: acc 0.5234 loss: 1.3135\n",
      "Epoch 11, CIFAR-10 Batch 1:  Train: acc 0.7750 loss: 0.5523 / Valid: acc 0.5372 loss: 1.2926\n",
      "Epoch 12, CIFAR-10 Batch 1:  Train: acc 0.8250 loss: 0.4757 / Valid: acc 0.5442 loss: 1.2907\n",
      "Epoch 13, CIFAR-10 Batch 1:  Train: acc 0.8500 loss: 0.4125 / Valid: acc 0.5354 loss: 1.3230\n",
      "Epoch 14, CIFAR-10 Batch 1:  Train: acc 0.8500 loss: 0.3725 / Valid: acc 0.5468 loss: 1.3261\n",
      "Epoch 15, CIFAR-10 Batch 1:  Train: acc 0.9000 loss: 0.3395 / Valid: acc 0.5472 loss: 1.3249\n",
      "Epoch 16, CIFAR-10 Batch 1:  Train: acc 0.9000 loss: 0.3113 / Valid: acc 0.5492 loss: 1.2971\n",
      "Epoch 17, CIFAR-10 Batch 1:  Train: acc 0.9500 loss: 0.2609 / Valid: acc 0.5672 loss: 1.2515\n",
      "Epoch 18, CIFAR-10 Batch 1:  Train: acc 0.9250 loss: 0.2235 / Valid: acc 0.5532 loss: 1.3342\n",
      "Epoch 19, CIFAR-10 Batch 1:  Train: acc 1.0000 loss: 0.1604 / Valid: acc 0.5574 loss: 1.3315\n",
      "Epoch 20, CIFAR-10 Batch 1:  Train: acc 1.0000 loss: 0.1424 / Valid: acc 0.5666 loss: 1.2929\n",
      "Epoch 21, CIFAR-10 Batch 1:  Train: acc 1.0000 loss: 0.1393 / Valid: acc 0.5708 loss: 1.3130\n",
      "Epoch 22, CIFAR-10 Batch 1:  Train: acc 0.9750 loss: 0.1312 / Valid: acc 0.5596 loss: 1.3866\n",
      "Epoch 23, CIFAR-10 Batch 1:  Train: acc 1.0000 loss: 0.0893 / Valid: acc 0.5742 loss: 1.3314\n",
      "Epoch 24, CIFAR-10 Batch 1:  Train: acc 1.0000 loss: 0.0892 / Valid: acc 0.5780 loss: 1.3379\n",
      "Epoch 25, CIFAR-10 Batch 1:  Train: acc 1.0000 loss: 0.0782 / Valid: acc 0.5538 loss: 1.5168\n"
     ]
    }
   ],
   "source": [
    "\"\"\"\n",
    "DON'T MODIFY ANYTHING IN THIS CELL\n",
    "\"\"\"\n",
    "print('Checking the Training on a Single Batch...')\n",
    "with tf.Session() as sess:\n",
    "    # Initializing the variables\n",
    "    sess.run(tf.global_variables_initializer())\n",
    "    \n",
    "    # Training cycle\n",
    "    for epoch in range(epochs):\n",
    "        batch_i = 1\n",
    "        for batch_features, batch_labels in helper.load_preprocess_training_batch(batch_i, batch_size):\n",
    "            train_neural_network(sess, optimizer, keep_probability, batch_features, batch_labels)\n",
    "        print('Epoch {:>2}, CIFAR-10 Batch {}:  '.format(epoch + 1, batch_i), end='')\n",
    "        print_stats(sess, batch_features, batch_labels, cost, accuracy)"
   ]
  },
  {
   "cell_type": "markdown",
   "metadata": {},
   "source": [
    "### Fully Train the Model\n",
    "Now that you got a good accuracy with a single CIFAR-10 batch, try it with all five batches."
   ]
  },
  {
   "cell_type": "code",
   "execution_count": 22,
   "metadata": {
    "collapsed": false
   },
   "outputs": [
    {
     "name": "stdout",
     "output_type": "stream",
     "text": [
      "Training...\n",
      "Epoch  1, CIFAR-10 Batch 1:  Train: acc 0.2250 loss: 2.1682 / Valid: acc 0.2528 loss: 2.1037\n",
      "Epoch  1, CIFAR-10 Batch 2:  Train: acc 0.2000 loss: 1.9864 / Valid: acc 0.3620 loss: 1.8250\n",
      "Epoch  1, CIFAR-10 Batch 3:  Train: acc 0.4000 loss: 1.6025 / Valid: acc 0.3820 loss: 1.6972\n",
      "Epoch  1, CIFAR-10 Batch 4:  Train: acc 0.4500 loss: 1.6020 / Valid: acc 0.4212 loss: 1.6127\n",
      "Epoch  1, CIFAR-10 Batch 5:  Train: acc 0.4500 loss: 1.5593 / Valid: acc 0.4558 loss: 1.4887\n",
      "Epoch  2, CIFAR-10 Batch 1:  Train: acc 0.4250 loss: 1.6309 / Valid: acc 0.4850 loss: 1.4225\n",
      "Epoch  2, CIFAR-10 Batch 2:  Train: acc 0.5500 loss: 1.3315 / Valid: acc 0.4970 loss: 1.3903\n",
      "Epoch  2, CIFAR-10 Batch 3:  Train: acc 0.6500 loss: 1.0832 / Valid: acc 0.5062 loss: 1.3628\n",
      "Epoch  2, CIFAR-10 Batch 4:  Train: acc 0.4750 loss: 1.3093 / Valid: acc 0.5092 loss: 1.3619\n",
      "Epoch  2, CIFAR-10 Batch 5:  Train: acc 0.5250 loss: 1.3525 / Valid: acc 0.5118 loss: 1.3381\n",
      "Epoch  3, CIFAR-10 Batch 1:  Train: acc 0.5750 loss: 1.2567 / Valid: acc 0.5322 loss: 1.2742\n",
      "Epoch  3, CIFAR-10 Batch 2:  Train: acc 0.5750 loss: 1.0365 / Valid: acc 0.5308 loss: 1.2746\n",
      "Epoch  3, CIFAR-10 Batch 3:  Train: acc 0.7250 loss: 0.8032 / Valid: acc 0.5466 loss: 1.2436\n",
      "Epoch  3, CIFAR-10 Batch 4:  Train: acc 0.6750 loss: 0.9962 / Valid: acc 0.5732 loss: 1.1948\n",
      "Epoch  3, CIFAR-10 Batch 5:  Train: acc 0.6250 loss: 1.0927 / Valid: acc 0.5622 loss: 1.2106\n",
      "Epoch  4, CIFAR-10 Batch 1:  Train: acc 0.6250 loss: 1.0839 / Valid: acc 0.5774 loss: 1.1718\n",
      "Epoch  4, CIFAR-10 Batch 2:  Train: acc 0.7500 loss: 0.8091 / Valid: acc 0.5766 loss: 1.1579\n",
      "Epoch  4, CIFAR-10 Batch 3:  Train: acc 0.7000 loss: 0.7200 / Valid: acc 0.5950 loss: 1.1380\n",
      "Epoch  4, CIFAR-10 Batch 4:  Train: acc 0.7250 loss: 0.7834 / Valid: acc 0.6004 loss: 1.1152\n",
      "Epoch  4, CIFAR-10 Batch 5:  Train: acc 0.7000 loss: 0.9440 / Valid: acc 0.5964 loss: 1.1207\n",
      "Epoch  5, CIFAR-10 Batch 1:  Train: acc 0.7000 loss: 0.8550 / Valid: acc 0.5818 loss: 1.1719\n",
      "Epoch  5, CIFAR-10 Batch 2:  Train: acc 0.7500 loss: 0.7183 / Valid: acc 0.5842 loss: 1.1461\n",
      "Epoch  5, CIFAR-10 Batch 3:  Train: acc 0.8500 loss: 0.5898 / Valid: acc 0.6152 loss: 1.0906\n",
      "Epoch  5, CIFAR-10 Batch 4:  Train: acc 0.8000 loss: 0.6933 / Valid: acc 0.6146 loss: 1.0698\n",
      "Epoch  5, CIFAR-10 Batch 5:  Train: acc 0.8250 loss: 0.7013 / Valid: acc 0.6224 loss: 1.0497\n",
      "Epoch  6, CIFAR-10 Batch 1:  Train: acc 0.7500 loss: 0.7024 / Valid: acc 0.6184 loss: 1.0861\n",
      "Epoch  6, CIFAR-10 Batch 2:  Train: acc 0.8250 loss: 0.5870 / Valid: acc 0.6332 loss: 1.0318\n",
      "Epoch  6, CIFAR-10 Batch 3:  Train: acc 0.9000 loss: 0.4918 / Valid: acc 0.6276 loss: 1.0395\n",
      "Epoch  6, CIFAR-10 Batch 4:  Train: acc 0.8250 loss: 0.5317 / Valid: acc 0.6336 loss: 1.0261\n",
      "Epoch  6, CIFAR-10 Batch 5:  Train: acc 0.8250 loss: 0.5725 / Valid: acc 0.6412 loss: 0.9968\n",
      "Epoch  7, CIFAR-10 Batch 1:  Train: acc 0.7500 loss: 0.5629 / Valid: acc 0.6412 loss: 1.0340\n",
      "Epoch  7, CIFAR-10 Batch 2:  Train: acc 0.8250 loss: 0.5023 / Valid: acc 0.6558 loss: 0.9756\n",
      "Epoch  7, CIFAR-10 Batch 3:  Train: acc 0.9250 loss: 0.3953 / Valid: acc 0.6396 loss: 1.0153\n",
      "Epoch  7, CIFAR-10 Batch 4:  Train: acc 0.9250 loss: 0.3856 / Valid: acc 0.6602 loss: 0.9636\n",
      "Epoch  7, CIFAR-10 Batch 5:  Train: acc 0.9000 loss: 0.5072 / Valid: acc 0.6534 loss: 0.9659\n",
      "Epoch  8, CIFAR-10 Batch 1:  Train: acc 0.8500 loss: 0.4760 / Valid: acc 0.6458 loss: 1.0076\n",
      "Epoch  8, CIFAR-10 Batch 2:  Train: acc 0.9250 loss: 0.3736 / Valid: acc 0.6646 loss: 0.9484\n",
      "Epoch  8, CIFAR-10 Batch 3:  Train: acc 0.9000 loss: 0.3232 / Valid: acc 0.6420 loss: 0.9970\n",
      "Epoch  8, CIFAR-10 Batch 4:  Train: acc 0.9250 loss: 0.3348 / Valid: acc 0.6556 loss: 0.9765\n",
      "Epoch  8, CIFAR-10 Batch 5:  Train: acc 0.9500 loss: 0.4358 / Valid: acc 0.6686 loss: 0.9423\n",
      "Epoch  9, CIFAR-10 Batch 1:  Train: acc 0.8750 loss: 0.3641 / Valid: acc 0.6516 loss: 0.9925\n",
      "Epoch  9, CIFAR-10 Batch 2:  Train: acc 0.9500 loss: 0.3345 / Valid: acc 0.6710 loss: 0.9281\n",
      "Epoch  9, CIFAR-10 Batch 3:  Train: acc 0.9500 loss: 0.2754 / Valid: acc 0.6426 loss: 0.9941\n",
      "Epoch  9, CIFAR-10 Batch 4:  Train: acc 0.9500 loss: 0.3079 / Valid: acc 0.6534 loss: 0.9882\n",
      "Epoch  9, CIFAR-10 Batch 5:  Train: acc 0.9250 loss: 0.3413 / Valid: acc 0.6674 loss: 0.9569\n",
      "Epoch 10, CIFAR-10 Batch 1:  Train: acc 0.9750 loss: 0.2652 / Valid: acc 0.6720 loss: 0.9378\n",
      "Epoch 10, CIFAR-10 Batch 2:  Train: acc 0.9250 loss: 0.2649 / Valid: acc 0.6740 loss: 0.9328\n",
      "Epoch 10, CIFAR-10 Batch 3:  Train: acc 0.9500 loss: 0.2325 / Valid: acc 0.6640 loss: 0.9781\n",
      "Epoch 10, CIFAR-10 Batch 4:  Train: acc 0.9250 loss: 0.2197 / Valid: acc 0.6584 loss: 0.9709\n",
      "Epoch 10, CIFAR-10 Batch 5:  Train: acc 0.9250 loss: 0.2975 / Valid: acc 0.6802 loss: 0.9285\n",
      "Epoch 11, CIFAR-10 Batch 1:  Train: acc 0.9500 loss: 0.2907 / Valid: acc 0.6374 loss: 1.1279\n",
      "Epoch 11, CIFAR-10 Batch 2:  Train: acc 0.9750 loss: 0.2202 / Valid: acc 0.6664 loss: 0.9516\n",
      "Epoch 11, CIFAR-10 Batch 3:  Train: acc 0.9500 loss: 0.1819 / Valid: acc 0.6668 loss: 0.9537\n",
      "Epoch 11, CIFAR-10 Batch 4:  Train: acc 0.9500 loss: 0.2198 / Valid: acc 0.6666 loss: 0.9665\n",
      "Epoch 11, CIFAR-10 Batch 5:  Train: acc 0.9500 loss: 0.2159 / Valid: acc 0.6890 loss: 0.9167\n",
      "Epoch 12, CIFAR-10 Batch 1:  Train: acc 0.9750 loss: 0.1747 / Valid: acc 0.6688 loss: 0.9655\n",
      "Epoch 12, CIFAR-10 Batch 2:  Train: acc 0.9750 loss: 0.1625 / Valid: acc 0.6740 loss: 0.9530\n",
      "Epoch 12, CIFAR-10 Batch 3:  Train: acc 0.9500 loss: 0.1859 / Valid: acc 0.6740 loss: 0.9433\n",
      "Epoch 12, CIFAR-10 Batch 4:  Train: acc 0.9750 loss: 0.1360 / Valid: acc 0.6850 loss: 0.9248\n",
      "Epoch 12, CIFAR-10 Batch 5:  Train: acc 1.0000 loss: 0.1760 / Valid: acc 0.6818 loss: 0.9265\n",
      "Epoch 13, CIFAR-10 Batch 1:  Train: acc 0.9750 loss: 0.1930 / Valid: acc 0.6874 loss: 0.9094\n",
      "Epoch 13, CIFAR-10 Batch 2:  Train: acc 1.0000 loss: 0.1422 / Valid: acc 0.6812 loss: 0.9458\n",
      "Epoch 13, CIFAR-10 Batch 3:  Train: acc 0.9750 loss: 0.1287 / Valid: acc 0.6892 loss: 0.9189\n",
      "Epoch 13, CIFAR-10 Batch 4:  Train: acc 1.0000 loss: 0.1239 / Valid: acc 0.6964 loss: 0.9036\n",
      "Epoch 13, CIFAR-10 Batch 5:  Train: acc 1.0000 loss: 0.1474 / Valid: acc 0.6890 loss: 0.9076\n",
      "Epoch 14, CIFAR-10 Batch 1:  Train: acc 1.0000 loss: 0.1302 / Valid: acc 0.6900 loss: 0.9425\n",
      "Epoch 14, CIFAR-10 Batch 2:  Train: acc 0.9750 loss: 0.1120 / Valid: acc 0.6790 loss: 0.9567\n",
      "Epoch 14, CIFAR-10 Batch 3:  Train: acc 0.9750 loss: 0.1102 / Valid: acc 0.6886 loss: 0.9302\n",
      "Epoch 14, CIFAR-10 Batch 4:  Train: acc 1.0000 loss: 0.0896 / Valid: acc 0.6968 loss: 0.9047\n",
      "Epoch 14, CIFAR-10 Batch 5:  Train: acc 1.0000 loss: 0.1237 / Valid: acc 0.6866 loss: 0.9216\n",
      "Epoch 15, CIFAR-10 Batch 1:  Train: acc 1.0000 loss: 0.0850 / Valid: acc 0.6940 loss: 0.9322\n",
      "Epoch 15, CIFAR-10 Batch 2:  Train: acc 1.0000 loss: 0.1123 / Valid: acc 0.6794 loss: 0.9792\n",
      "Epoch 15, CIFAR-10 Batch 3:  Train: acc 1.0000 loss: 0.0815 / Valid: acc 0.6906 loss: 0.9538\n",
      "Epoch 15, CIFAR-10 Batch 4:  Train: acc 1.0000 loss: 0.0610 / Valid: acc 0.7034 loss: 0.9245\n",
      "Epoch 15, CIFAR-10 Batch 5:  Train: acc 1.0000 loss: 0.1139 / Valid: acc 0.6918 loss: 0.9315\n",
      "Epoch 16, CIFAR-10 Batch 1:  Train: acc 1.0000 loss: 0.0827 / Valid: acc 0.7034 loss: 0.9185\n",
      "Epoch 16, CIFAR-10 Batch 2:  Train: acc 1.0000 loss: 0.0961 / Valid: acc 0.6810 loss: 0.9952\n",
      "Epoch 16, CIFAR-10 Batch 3:  Train: acc 0.9750 loss: 0.0812 / Valid: acc 0.6942 loss: 0.9510\n",
      "Epoch 16, CIFAR-10 Batch 4:  Train: acc 1.0000 loss: 0.0657 / Valid: acc 0.6906 loss: 0.9666\n",
      "Epoch 16, CIFAR-10 Batch 5:  Train: acc 1.0000 loss: 0.0644 / Valid: acc 0.6932 loss: 0.9386\n",
      "Epoch 17, CIFAR-10 Batch 1:  Train: acc 1.0000 loss: 0.0545 / Valid: acc 0.6924 loss: 0.9878\n",
      "Epoch 17, CIFAR-10 Batch 2:  Train: acc 1.0000 loss: 0.0470 / Valid: acc 0.6890 loss: 0.9871\n",
      "Epoch 17, CIFAR-10 Batch 3:  Train: acc 0.9750 loss: 0.0593 / Valid: acc 0.6902 loss: 0.9986\n",
      "Epoch 17, CIFAR-10 Batch 4:  Train: acc 1.0000 loss: 0.0485 / Valid: acc 0.6848 loss: 0.9720\n",
      "Epoch 17, CIFAR-10 Batch 5:  Train: acc 1.0000 loss: 0.0602 / Valid: acc 0.6984 loss: 0.9456\n",
      "Epoch 18, CIFAR-10 Batch 1:  Train: acc 1.0000 loss: 0.0623 / Valid: acc 0.7056 loss: 0.9542\n",
      "Epoch 18, CIFAR-10 Batch 2:  Train: acc 1.0000 loss: 0.0541 / Valid: acc 0.6866 loss: 0.9899\n",
      "Epoch 18, CIFAR-10 Batch 3:  Train: acc 0.9750 loss: 0.0516 / Valid: acc 0.6706 loss: 1.1082\n",
      "Epoch 18, CIFAR-10 Batch 4:  Train: acc 1.0000 loss: 0.0349 / Valid: acc 0.6930 loss: 0.9836\n",
      "Epoch 18, CIFAR-10 Batch 5:  Train: acc 1.0000 loss: 0.0581 / Valid: acc 0.6640 loss: 1.1143\n",
      "Epoch 19, CIFAR-10 Batch 1:  Train: acc 1.0000 loss: 0.0518 / Valid: acc 0.6856 loss: 1.0004\n",
      "Epoch 19, CIFAR-10 Batch 2:  Train: acc 1.0000 loss: 0.0425 / Valid: acc 0.6762 loss: 1.0588\n",
      "Epoch 19, CIFAR-10 Batch 3:  Train: acc 1.0000 loss: 0.0394 / Valid: acc 0.6918 loss: 1.0563\n",
      "Epoch 19, CIFAR-10 Batch 4:  Train: acc 1.0000 loss: 0.0318 / Valid: acc 0.6914 loss: 1.0269\n",
      "Epoch 19, CIFAR-10 Batch 5:  Train: acc 1.0000 loss: 0.0568 / Valid: acc 0.6834 loss: 1.0391\n",
      "Epoch 20, CIFAR-10 Batch 1:  Train: acc 1.0000 loss: 0.0704 / Valid: acc 0.6878 loss: 1.0556\n",
      "Epoch 20, CIFAR-10 Batch 2:  Train: acc 1.0000 loss: 0.0342 / Valid: acc 0.6774 loss: 1.0473\n",
      "Epoch 20, CIFAR-10 Batch 3:  Train: acc 1.0000 loss: 0.0256 / Valid: acc 0.6860 loss: 1.0984\n",
      "Epoch 20, CIFAR-10 Batch 4:  Train: acc 1.0000 loss: 0.0316 / Valid: acc 0.6858 loss: 1.0513\n",
      "Epoch 20, CIFAR-10 Batch 5:  Train: acc 1.0000 loss: 0.0327 / Valid: acc 0.6776 loss: 1.1122\n",
      "Epoch 21, CIFAR-10 Batch 1:  Train: acc 1.0000 loss: 0.0565 / Valid: acc 0.6886 loss: 1.0530\n",
      "Epoch 21, CIFAR-10 Batch 2:  Train: acc 1.0000 loss: 0.0359 / Valid: acc 0.6804 loss: 1.0243\n",
      "Epoch 21, CIFAR-10 Batch 3:  Train: acc 1.0000 loss: 0.0236 / Valid: acc 0.6532 loss: 1.2362\n",
      "Epoch 21, CIFAR-10 Batch 4:  Train: acc 1.0000 loss: 0.0430 / Valid: acc 0.6872 loss: 1.0352\n",
      "Epoch 21, CIFAR-10 Batch 5:  Train: acc 1.0000 loss: 0.0375 / Valid: acc 0.6584 loss: 1.1934\n",
      "Epoch 22, CIFAR-10 Batch 1:  Train: acc 1.0000 loss: 0.0338 / Valid: acc 0.6942 loss: 1.0597\n",
      "Epoch 22, CIFAR-10 Batch 2:  Train: acc 1.0000 loss: 0.0167 / Valid: acc 0.6744 loss: 1.0744\n",
      "Epoch 22, CIFAR-10 Batch 3:  Train: acc 1.0000 loss: 0.0096 / Valid: acc 0.6684 loss: 1.2231\n",
      "Epoch 22, CIFAR-10 Batch 4:  Train: acc 1.0000 loss: 0.0268 / Valid: acc 0.6860 loss: 1.0691\n",
      "Epoch 22, CIFAR-10 Batch 5:  Train: acc 1.0000 loss: 0.0133 / Valid: acc 0.6892 loss: 1.1241\n",
      "Epoch 23, CIFAR-10 Batch 1:  Train: acc 1.0000 loss: 0.0192 / Valid: acc 0.6924 loss: 1.0587\n",
      "Epoch 23, CIFAR-10 Batch 2:  Train: acc 1.0000 loss: 0.0096 / Valid: acc 0.6952 loss: 1.0604\n",
      "Epoch 23, CIFAR-10 Batch 3:  Train: acc 1.0000 loss: 0.0061 / Valid: acc 0.6884 loss: 1.1372\n",
      "Epoch 23, CIFAR-10 Batch 4:  Train: acc 1.0000 loss: 0.0142 / Valid: acc 0.6864 loss: 1.0931\n",
      "Epoch 23, CIFAR-10 Batch 5:  Train: acc 1.0000 loss: 0.0165 / Valid: acc 0.6928 loss: 1.1095\n",
      "Epoch 24, CIFAR-10 Batch 1:  Train: acc 1.0000 loss: 0.0076 / Valid: acc 0.6920 loss: 1.1209\n",
      "Epoch 24, CIFAR-10 Batch 2:  Train: acc 1.0000 loss: 0.0174 / Valid: acc 0.6878 loss: 1.0738\n",
      "Epoch 24, CIFAR-10 Batch 3:  Train: acc 1.0000 loss: 0.0049 / Valid: acc 0.6936 loss: 1.1568\n",
      "Epoch 24, CIFAR-10 Batch 4:  Train: acc 1.0000 loss: 0.0116 / Valid: acc 0.6914 loss: 1.0934\n",
      "Epoch 24, CIFAR-10 Batch 5:  Train: acc 1.0000 loss: 0.0074 / Valid: acc 0.7036 loss: 1.0648\n",
      "Epoch 25, CIFAR-10 Batch 1:  Train: acc 1.0000 loss: 0.0082 / Valid: acc 0.6990 loss: 1.0745\n",
      "Epoch 25, CIFAR-10 Batch 2:  Train: acc 1.0000 loss: 0.0096 / Valid: acc 0.6758 loss: 1.1800\n",
      "Epoch 25, CIFAR-10 Batch 3:  Train: acc 1.0000 loss: 0.0111 / Valid: acc 0.6864 loss: 1.1481\n",
      "Epoch 25, CIFAR-10 Batch 4:  Train: acc 1.0000 loss: 0.0169 / Valid: acc 0.6886 loss: 1.1299\n",
      "Epoch 25, CIFAR-10 Batch 5:  Train: acc 1.0000 loss: 0.0127 / Valid: acc 0.6860 loss: 1.1506\n"
     ]
    }
   ],
   "source": [
    "\"\"\"\n",
    "DON'T MODIFY ANYTHING IN THIS CELL\n",
    "\"\"\"\n",
    "save_model_path = './image_classification'\n",
    "\n",
    "print('Training...')\n",
    "with tf.Session() as sess:\n",
    "    # Initializing the variables\n",
    "    sess.run(tf.global_variables_initializer())\n",
    "    \n",
    "    # Training cycle\n",
    "    for epoch in range(epochs):\n",
    "        # Loop over all batches\n",
    "        n_batches = 5\n",
    "        for batch_i in range(1, n_batches + 1):\n",
    "            for batch_features, batch_labels in helper.load_preprocess_training_batch(batch_i, batch_size):\n",
    "                train_neural_network(sess, optimizer, keep_probability, batch_features, batch_labels)\n",
    "            print('Epoch {:>2}, CIFAR-10 Batch {}:  '.format(epoch + 1, batch_i), end='')\n",
    "            print_stats(sess, batch_features, batch_labels, cost, accuracy)\n",
    "            \n",
    "    # Save Model\n",
    "    saver = tf.train.Saver()\n",
    "    save_path = saver.save(sess, save_model_path)"
   ]
  },
  {
   "cell_type": "markdown",
   "metadata": {},
   "source": [
    "# Checkpoint\n",
    "The model has been saved to disk.\n",
    "## Test Model\n",
    "Test your model against the test dataset.  This will be your final accuracy. You should have an accuracy greater than 50%. If you don't, keep tweaking the model architecture and parameters."
   ]
  },
  {
   "cell_type": "code",
   "execution_count": 23,
   "metadata": {
    "collapsed": false
   },
   "outputs": [
    {
     "name": "stdout",
     "output_type": "stream",
     "text": [
      "Testing Accuracy: 0.67451171875\n",
      "\n"
     ]
    },
    {
     "data": {
      "image/png": "[encoded data removed]",
      "text/plain": [
       "<matplotlib.figure.Figure at 0x1bb07529dd8>"
      ]
     },
     "metadata": {
      "image/png": {
       "height": 319,
       "width": 355
      }
     },
     "output_type": "display_data"
    }
   ],
   "source": [
    "\"\"\"\n",
    "DON'T MODIFY ANYTHING IN THIS CELL\n",
    "\"\"\"\n",
    "%matplotlib inline\n",
    "%config InlineBackend.figure_format = 'retina'\n",
    "\n",
    "import tensorflow as tf\n",
    "import pickle\n",
    "import helper\n",
    "import random\n",
    "\n",
    "# Set batch size if not already set\n",
    "try:\n",
    "    if batch_size:\n",
    "        pass\n",
    "except NameError:\n",
    "    batch_size = 64\n",
    "\n",
    "save_model_path = './image_classification'\n",
    "n_samples = 4\n",
    "top_n_predictions = 3\n",
    "\n",
    "def test_model():\n",
    "    \"\"\"\n",
    "    Test the saved model against the test dataset\n",
    "    \"\"\"\n",
    "\n",
    "    test_features, test_labels = pickle.load(open('preprocess_training.p', mode='rb'))\n",
    "    loaded_graph = tf.Graph()\n",
    "\n",
    "    with tf.Session(graph=loaded_graph) as sess:\n",
    "        # Load model\n",
    "        loader = tf.train.import_meta_graph(save_model_path + '.meta')\n",
    "        loader.restore(sess, save_model_path)\n",
    "\n",
    "        # Get Tensors from loaded model\n",
    "        loaded_x = loaded_graph.get_tensor_by_name('x:0')\n",
    "        loaded_y = loaded_graph.get_tensor_by_name('y:0')\n",
    "        loaded_keep_prob = loaded_graph.get_tensor_by_name('keep_prob:0')\n",
    "        loaded_logits = loaded_graph.get_tensor_by_name('logits:0')\n",
    "        loaded_acc = loaded_graph.get_tensor_by_name('accuracy:0')\n",
    "        \n",
    "        # Get accuracy in batches for memory limitations\n",
    "        test_batch_acc_total = 0\n",
    "        test_batch_count = 0\n",
    "        \n",
    "        for train_feature_batch, train_label_batch in helper.batch_features_labels(test_features, test_labels, batch_size):\n",
    "            test_batch_acc_total += sess.run(\n",
    "                loaded_acc,\n",
    "                feed_dict={loaded_x: train_feature_batch, loaded_y: train_label_batch, loaded_keep_prob: 1.0})\n",
    "            test_batch_count += 1\n",
    "\n",
    "        print('Testing Accuracy: {}\\n'.format(test_batch_acc_total/test_batch_count))\n",
    "\n",
    "        # Print Random Samples\n",
    "        random_test_features, random_test_labels = tuple(zip(*random.sample(list(zip(test_features, test_labels)), n_samples)))\n",
    "        random_test_predictions = sess.run(\n",
    "            tf.nn.top_k(tf.nn.softmax(loaded_logits), top_n_predictions),\n",
    "            feed_dict={loaded_x: random_test_features, loaded_y: random_test_labels, loaded_keep_prob: 1.0})\n",
    "        helper.display_image_predictions(random_test_features, random_test_labels, random_test_predictions)\n",
    "\n",
    "\n",
    "test_model()"
   ]
  },
  {
   "cell_type": "markdown",
   "metadata": {},
   "source": [
    "## Why 50-70% Accuracy?\n",
    "You might be wondering why you can't get an accuracy any higher. First things first, 50% isn't bad for a simple CNN.  Pure guessing would get you 10% accuracy. However, you might notice people are getting scores [well above 70%](http://rodrigob.github.io/are_we_there_yet/build/classification_datasets_results.html#43494641522d3130).  That's because we haven't taught you all there is to know about neural networks. We still need to cover a few more techniques.\n",
    "## Submitting This Project\n",
    "When submitting this project, make sure to run all the cells before saving the notebook.  Save the notebook file as \"dlnd_image_classification.ipynb\" and save it as a HTML file under \"File\" -> \"Download as\".  Include the \"helper.py\" and \"problem_unittests.py\" files in your submission."
   ]
  }
 ],
 "metadata": {
  "kernelspec": {
   "display_name": "Python 3",
   "language": "python",
   "name": "python3"
  },
  "language_info": {
   "codemirror_mode": {
    "name": "ipython",
    "version": 3
   },
   "file_extension": ".py",
   "mimetype": "text/x-python",
   "name": "python",
   "nbconvert_exporter": "python",
   "pygments_lexer": "ipython3",
   "version": "3.5.3"
  }
 },
 "nbformat": 4,
 "nbformat_minor": 0
}
